{
 "cells": [
  {
   "cell_type": "markdown",
   "id": "dd35755b",
   "metadata": {},
   "source": [
    "## [Demo] Hello World in OpenMP \n",
    "[D1] Heterogeneous Programming with OpenMP  \n",
    "Apan Qasem [\\<apan@txstate.edu\\>](apan@txstate.edu)\n",
    "\n",
    "### Description\n",
    "\n",
    "An in-class interactive walk-through of the Hello World program, parallelized using OpenMP. The\n",
    "demo covers the following\n",
    "\n",
    "  * setting up OpenMP environment in Linux \n",
    "  * building OpenMP applications with `gcc` command-line\n",
    "  * OpenMP pragmas: `parallel` \n",
    "  * OpenMP API: `omp_set_num_threads(), omp_get_num_threads(), omp_get_thread_num()`\n",
    "\n",
    "### Instructions \n",
    "\n",
    "1. **Setting up the environment:** All mainstream compilers today provide integrated\n",
    "support for OpenMP. Each compiler has its own implementation of the OpenMP standard. The OpenMP\n",
    "libraries and header files are packaged and distributed with the compiler. So, no software packages\n",
    "need to be installed to build and run OpenMP applications as long as there is a more-or-less recent\n",
    "compiler installed on the system."
   ]
  },
  {
   "cell_type": "code",
   "execution_count": null,
   "id": "9f15e7be",
   "metadata": {},
   "outputs": [],
   "source": [
    "We can check the version of the compiler in our system as follows (ada is the name of the\n",
    "machine where the commands in this demo were run)"
   ]
  },
  {
   "cell_type": "markdown",
   "id": "2ebc5073",
   "metadata": {},
   "source": [
    "(ada)% gcc --version\n",
    "\t    gcc (Ubuntu 7.5.0-3ubuntu1~18.04) 7.5.0\n",
    "\t    Copyright (C) 2017 Free Software Foundation, Inc.\n",
    "\t    This is free software; see the source for copying conditions.  There is NO\n",
    "\t    warranty; not even for MERCHANTABILITY or FITNESS FOR A PARTICULAR PURPOSE."
   ]
  },
  {
   "cell_type": "code",
   "execution_count": null,
   "id": "4f1f3086",
   "metadata": {},
   "outputs": [],
   "source": [
    "(ada)% clang --version\n",
    "\t\tclang version 12.0.0 (https://github.com/llvm/llvm-project.git\n",
    "\t\t041c7b84a4b925476d1e21ed302786033bb6035f) \n",
    "\t\tTarget: x86_64-unknown-linux-gnu\n",
    "\t\tThread model: posix\n",
    "\t\tInstalledDir: /usr/local/bin\n"
   ]
  },
  {
   "cell_type": "markdown",
   "id": "6ee49779",
   "metadata": {},
   "source": [
    "2. **Building and running an OpenMP program:** Below is the canonical Hello World program written in C."
   ]
  },
  {
   "cell_type": "code",
   "execution_count": null,
   "id": "4422a9ec",
   "metadata": {},
   "outputs": [],
   "source": [
    "\t#include<stdio.h>\n",
    "\tint main() {\n",
    "\t  printf(\"Hello World!\\n\");\n",
    "\t  return 0;\n",
    "\t}"
   ]
  },
  {
   "cell_type": "markdown",
   "id": "49ec0e81",
   "metadata": {},
   "source": [
    "We will implement an OpenMP version of this program. Generally, the first step in writing an OpenMP program\n",
    "    is including the header file (although in this trivial example we could have done without this)"
   ]
  },
  {
   "cell_type": "code",
   "execution_count": null,
   "id": "3acfd21c",
   "metadata": {},
   "outputs": [],
   "source": [
    "#include<omp.h>"
   ]
  },
  {
   "cell_type": "markdown",
   "id": "ab168bc0",
   "metadata": {},
   "source": [
    "On Linux systems, `omp.h` is located `/usr/include`. Since this is in the compiler's search\n",
    "    path for header files there is no need to specify an include path (with the `-I` flag) in the\n",
    "    compilation command. We can compile and create an executable with the following command."
   ]
  },
  {
   "cell_type": "code",
   "execution_count": null,
   "id": "5888ce22",
   "metadata": {},
   "outputs": [],
   "source": [
    "(ada)% gcc -o hello -fopenmp hello.c"
   ]
  },
  {
   "cell_type": "markdown",
   "id": "5881f6b1",
   "metadata": {},
   "source": [
    "The only difference from a regular build command is the inclusion of the `-fopenmp` flag. This\n",
    "    flag tells `gcc` that we are building an OpenMP application. We can now execute this \n",
    "    program from the command-line just like a serial program."
   ]
  },
  {
   "cell_type": "code",
   "execution_count": null,
   "id": "97d6ce11",
   "metadata": {},
   "outputs": [],
   "source": [
    "(ada)% ./hello"
   ]
  },
  {
   "cell_type": "markdown",
   "id": "c089d49b",
   "metadata": {},
   "source": [
    "3.  **OpenMP pragmas:** OpenMP uses a pragma-based syntax. All parallelization and associated directives\n",
    "    must specified via pragmas. All pragmas have the following format"
   ]
  },
  {
   "cell_type": "code",
   "execution_count": null,
   "id": "da67ec1a",
   "metadata": {},
   "outputs": [],
   "source": [
    "#pragma omp <directive> [ options ]"
   ]
  },
  {
   "cell_type": "markdown",
   "id": "23b1ce51",
   "metadata": {},
   "source": [
    "`#pragma` tells the compiler that this line is to be processed by a pre-processor (not the\n",
    "    compiler itself). `omp` says that the directive is to be processed by OpenMP. `<directive>` specifies\n",
    "    the action to be taken on the code that immediately follows the pragma. The `<directive>` can be\n",
    "    followed by a set of optional arguments. In OpenMP terminology, these arguments are called\n",
    "    *clauses* (more on this in the next demo). \n",
    "\n",
    "\n",
    "4. **The `parallel` pragma:** One of the simplest pragmas in OpenMP is the `parallel` directive. It can\n",
    "   be used to parallelize a block of code within an application. We will insert the parallel\n",
    "   directive into our Hello World program."
   ]
  },
  {
   "cell_type": "code",
   "execution_count": null,
   "id": "308faeae",
   "metadata": {},
   "outputs": [],
   "source": [
    "\t#include<stdio.h>\n",
    "        #include<omp.h>\n",
    "\tint main() {\n",
    "\t  #pragma omp parallel\n",
    "\t  printf(\"Hello World!\\n\");\n",
    "\t  return 0;\n",
    "\t}\n",
    "\n",
    "This directive will execute the `printf` statement in parallel. This means that OpenMP will create\n",
    "    _n_ threads where each thread will execute an instance of the `printf` statement. All _n_\n",
    "    threads will execute this statement in parallel. We can build and execute this code as\n",
    "    before."
   ]
  },
  {
   "cell_type": "markdown",
   "id": "ecaf5fe0",
   "metadata": {},
   "source": [
    "_Can we predict the output?_"
   ]
  },
  {
   "cell_type": "code",
   "execution_count": null,
   "id": "5f900c0e",
   "metadata": {},
   "outputs": [],
   "source": [
    "\t(ada)%  gcc -o hello -fopenmp hello.c\n",
    "\t(ada)% ./hello \n",
    "\tHello World\n",
    "\tHello World\n",
    "\tHello World\n",
    "\tHello World\n",
    "\tHello World\n",
    "\tHello World\n",
    "\tHello World\n",
    "\tHello World\n",
    "\tHello World\n",
    "\tHello World\n",
    "\tHello World\n",
    "\tHello World\n",
    "\n",
    "*How many threads were created?* \n",
    "\n",
    "We can use the `wc` utility to count the number of lines of output from any program. \n",
    "\n",
    "    (ada)% ./hello | wc -l \n",
    "\t12\n",
    "\n",
    "OpenMP decided to create 12 threads in this case. \n",
    "\n",
    "_Can we guess why?_ \n",
    "\n",
    "If we do not tell OpenMP how many threads to use, it will apply its own judgment to select the\n",
    "    number of threads. In many situations, the number of threads will correspond to the number of\n",
    "    processing cores  available. We can check the number of cores available on our with `lscpu` command \n",
    "\n",
    "\t(ada)% lscpu\n",
    "\tArchitecture:        x86_64\n",
    "\tCPU op-mode(s):      32-bit, 64-bit\n",
    "\tByte Order:          Little Endian\n",
    "\tCPU(s):              12\n",
    "\tOn-line CPU(s) list: 0-11\n",
    "\tThread(s) per core:  1\n",
    "\tCore(s) per socket:  6\n",
    "\tSocket(s):           2\n",
    "\tNUMA node(s):        2\n",
    "\tVendor ID:           GenuineIntel\n",
    "\tCPU family:          6\n",
    "\tModel:               63\n",
    "\tModel name:          Intel(R) Xeon(R) CPU E5-2609 v3 @ 1.90GHz\n",
    "\tStepping:            2\n",
    "\tCPU MHz:             1198.677\n",
    "\n",
    "By default OpenMP pragmas apply to the next statement only. This is often not very useful for\n",
    "    parallelization as we just saw with our first Hello World example. If we want the `pragma`to\n",
    "    have an impact on a block of code then we can enclose the region with curly braces `{}` (_almost_\n",
    "    similar to what we do in C/C++)\n",
    "\n",
    "\tint main() {\n",
    "\t  #pragma omp parallel {\n",
    "            printf(\"Hello World\\n\");\n",
    "\t  }\n",
    "\t  return 0;\n",
    "\t}\n",
    "\n",
    "The above prompts the compiler to throw the following error. The error message is somewhat\n",
    "    cryptic. \n",
    "\n",
    "_Can we figure out why the compiler is complaining?_\n",
    "\n",
    "\t(ada)%  gcc -o hello -fopenmp hello.c\n",
    "\thello.c: In function ‘main’:\n",
    "\thello.c:6:24: error: expected ‘#pragma omp’ clause before ‘{’ token\n",
    "\t#pragma omp parallel {\n",
    "\t\t                 ^\n",
    "\thello.c: At top level:\n",
    "\thello.c:9:3: error: expected identifier or ‘(’ before ‘return’\n",
    "\treturn 0;\n",
    "\t^~~~~~\n",
    "\thello.c:10:1: error: expected identifier or ‘(’ before ‘}’ token\n",
    "\t}\n",
    "\t^\n",
    "\n",
    "Unlike C/C++, blocks in OpenMP _must_ start on a newline. Remember, OpenMP directives are being\n",
    "    processed by the pre-processor, not the compiler. (Not being able to place the opening brace on\n",
    "    the same line is a small sacrifice in style for some of us). We can now add multiple statements\n",
    "    inside the block to be parallelized by OpenMP. \n",
    "\n",
    "\tint main() {\n",
    "\t  #pragma omp parallel \n",
    "\t  {\n",
    "            printf(\"Hello World\\n\");\n",
    "            printf(\"Goodbye World!\\n\");                                     \n",
    "\t  }\n",
    "\t  return 0;\n",
    "\t}\n",
    "\n",
    "\n",
    "\t(ada)%  gcc -o hello -fopenmp hello.c\n",
    "\t(ada)% ./hello \n",
    "\tHello World\n",
    "\tHello World\n",
    "\tHello World\n",
    "\tHello World\n",
    "\tGoodbye World!\n",
    "\tHello World\n",
    "\tGoodbye World!\n",
    "\tHello World\n",
    "\t...\n",
    "\n",
    "We observe that Hello and Goodbye statements are not being printed in order. OpenMP has created\n",
    "    12 threads for the block Each threads executes both statements in the block and all threads are running in\n",
    "    parallel. The output is dependent on which threads gets control over I/O first and will change\n",
    "    from one run to the next. Of course, in real programs, we will want more control over the\n",
    "    parallel execution. "
   ]
  },
  {
   "cell_type": "markdown",
   "id": "a73ef84d",
   "metadata": {},
   "source": [
    "5. **OpenMP API:** OpenMP provides an extensive API to get information from executing\n",
    "   threads and to configure the parallel execution environment. `omp_set_num_threads()` allows us to\n",
    "   tell OpenMP how many threads it should in a parallel block of code. `omp_get_num_threads()` gives\n",
    "   us the number of threads that OpenMP is actually using. This function must be called from inside\n",
    "   a parallel region. If called from outside it returns 1. Each thread created by OpenMP has a\n",
    "   unique ID (this is different from the thread ID maintained by the OS). The thread ID can be\n",
    "   retrieved at runtime with `omp_get_thread_num()`."
   ]
  },
  {
   "cell_type": "code",
   "execution_count": null,
   "id": "471b035c",
   "metadata": {},
   "outputs": [],
   "source": [
    "We will now utilize these functions to track the parallel execution of our Hello World\n",
    "program. "
   ]
  },
  {
   "cell_type": "markdown",
   "id": "b405a005",
   "metadata": {},
   "source": [
    "#include<stdio.h>\n",
    "\t\t#include<omp.h>"
   ]
  },
  {
   "cell_type": "code",
   "execution_count": null,
   "id": "fad313e9",
   "metadata": {},
   "outputs": [],
   "source": [
    "\tint main() {"
   ]
  },
  {
   "cell_type": "markdown",
   "id": "3340858a",
   "metadata": {},
   "source": [
    "omp_set_num_threads(4);\n",
    "\t\t  #pragma omp parallel\n",
    "          {\n",
    "            printf(\"Hello World from thread %u of %u.\\n\", omp_get_thread_num(), omp_get_num_threads());\n",
    "            printf(\"Goodbye World from thread %u of %u.\\n\", omp_get_thread_num(), omp_get_num_threads());\n",
    "          }\n",
    "          return 0;\n",
    "        }"
   ]
  },
  {
   "cell_type": "code",
   "execution_count": null,
   "id": "113e063d",
   "metadata": {},
   "outputs": [],
   "source": [
    "This program limits the number of OpenMP threads to 4. The parallel segment then prints out the\n",
    "ID of each thread created by OpenMP and the total number of threads. \n",
    "\n",
    "\t(ada)% gcc -o hello -fopenmp hello.c\n",
    "\t(ada)% ./hello \n",
    "\tHello World from thread 0 of 4!\n",
    "\tGoodbye World from thread 0 of 4!\n",
    "\tHello World from thread 1 of 4!\n",
    "\tGoodbye World from thread 1 of 4!\n",
    "\tHello World from thread 3 of 4!\n",
    "\tGoodbye World from thread 3 of 4!\n",
    "\tHello World from thread 2 of 4!\n",
    "\tGoodbye World from thread 2 of 4!"
   ]
  },
  {
   "cell_type": "markdown",
   "id": "8660736a",
   "metadata": {},
   "source": [
    "The number of threads in `omp_set_num_threads()` does not have to be a compile-time constant. It\n",
    "    can be determined at runtime."
   ]
  },
  {
   "cell_type": "code",
   "execution_count": null,
   "id": "4ddb4c32",
   "metadata": {},
   "outputs": [],
   "source": [
    "\n",
    "\n",
    "\n",
    "\n",
    "\n",
    "\n",
    "\n"
   ]
  }
 ],
 "metadata": {},
 "nbformat": 4,
 "nbformat_minor": 5
}
