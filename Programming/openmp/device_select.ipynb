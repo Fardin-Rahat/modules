{
 "cells": [
  {
   "cell_type": "markdown",
   "metadata": {},
   "source": [
    "### Selecting a GPU Device\n",
    "\n",
    "If multiple devices are connected to OpenMP then by default the `target` directive will offload the task to the _default_ GPU. Generally, the default GPU is the one with device ID 0. In some cases, we may want to specify on which device we want our code to run. To do this we can combine the `device` clause with the `target` directive.\n",
    "\n",
    "Consider the following example code that scales the values in a floating-point array"
   ]
  },
  {
   "cell_type": "code",
   "execution_count": 1,
   "metadata": {},
   "outputs": [
    {
     "name": "stdout",
     "output_type": "stream",
     "text": [
      "Overwriting scale.cpp\n"
     ]
    }
   ],
   "source": [
    "%%writefile scale.cpp\n",
    "#include<iostream>\n",
    "#include<omp.h>\n",
    "\n",
    "using namespace std;\n",
    "\n",
    "int main() {\n",
    "  unsigned N = 10000;\n",
    "  float data[N];\n",
    "\n",
    "  for (unsigned i = 0; i < N; i++) \n",
    "    data[i] = i;\n",
    "\n",
    "  for (unsigned i = 0; i < N; i++) \n",
    "    data[i] *= 3.14;\n",
    "  \n",
    "  cout << \"Computation Done!\" << endl; \n",
    "  \n",
    "  // verify results\n",
    "  for (unsigned i = 0; i < 1; i++) \n",
    "    cout << data[i] << endl;\n",
    "\n",
    "  return 0;\n",
    "}"
   ]
  },
  {
   "cell_type": "markdown",
   "metadata": {},
   "source": [
    "We can offload the scaling computation to one of the available GPUs using the `target` directive"
   ]
  },
  {
   "cell_type": "code",
   "execution_count": 32,
   "metadata": {
    "scrolled": true
   },
   "outputs": [
    {
     "name": "stdout",
     "output_type": "stream",
     "text": [
      "Overwriting scale.cpp\n"
     ]
    }
   ],
   "source": [
    "%%writefile scale.cpp\n",
    "#include<iostream>\n",
    "#include<omp.h>\n",
    "\n",
    "using namespace std;\n",
    "\n",
    "int main() {\n",
    "  unsigned N = 10000;\n",
    "  float data[N];\n",
    "  \n",
    "  for (unsigned i = 0; i < N; i++) \n",
    "    data[i] = i;\n",
    "\n",
    "  #pragma omp target \n",
    "  for (unsigned i = 0; i < N; i++) \n",
    "    data[i] *= 3.14;\n",
    "  \n",
    "  cout << \"Computation Done!\" << endl; \n",
    "  \n",
    "  // verify results\n",
    "  for (unsigned i = 0; i < 1; i++) \n",
    "    cout << data[i] << endl;\n",
    "\n",
    "  return 0;\n",
    "}"
   ]
  },
  {
   "cell_type": "markdown",
   "metadata": {},
   "source": [
    "We compile the code with appropriate flags needed for target offloading"
   ]
  },
  {
   "cell_type": "code",
   "execution_count": 33,
   "metadata": {},
   "outputs": [],
   "source": [
    "!g++ -o scale scale.cpp -fno-stack-protector -foffload=nvptx-none -fopenmp"
   ]
  },
  {
   "cell_type": "markdown",
   "metadata": {},
   "source": [
    "Now let's run the code and time the GPU kernel. Unlike CUDA, since we are not explicitly defining a GPU function, OpenMP will pick it's own name for the kernel. Generally, kernel names will have the form `name_of_function$_omp_$_fn$i` where `function` is the function where the computation is taking place and `$i` is and index maintained by OpenMP. \n",
    "\n",
    "`nvprof` will prints a lot of detailed information. Since, for now we are only interested in the GPU kernel execution time, we can extract that information by grepping for the kernel name. Since we have only one GPU task and it resides in `main()`, we can just extract the relevant information by grepping `main`   "
   ]
  },
  {
   "cell_type": "code",
   "execution_count": 34,
   "metadata": {},
   "outputs": [
    {
     "name": "stdout",
     "output_type": "stream",
     "text": [
      " GPU activities:   99.88%  12.025ms         1  12.025ms  12.025ms  12.025ms  main$_omp_fn$0\r\n"
     ]
    }
   ],
   "source": [
    "!/usr/local/cuda/bin/nvprof  ./scale 2>&1 | grep \"main\""
   ]
  },
  {
   "cell_type": "markdown",
   "metadata": {},
   "source": [
    "Since we did not specify a device, the offloaded task executed on the default GPU with device id 0. We can check the specs for the available GPU using `nvivia-smi`"
   ]
  },
  {
   "cell_type": "code",
   "execution_count": 36,
   "metadata": {},
   "outputs": [
    {
     "name": "stdout",
     "output_type": "stream",
     "text": [
      "Wed Jul 14 10:17:20 2021       \r\n",
      "+-----------------------------------------------------------------------------+\r\n",
      "| NVIDIA-SMI 460.80       Driver Version: 460.80       CUDA Version: 11.2     |\r\n",
      "|-------------------------------+----------------------+----------------------+\r\n",
      "| GPU  Name        Persistence-M| Bus-Id        Disp.A | Volatile Uncorr. ECC |\r\n",
      "| Fan  Temp  Perf  Pwr:Usage/Cap|         Memory-Usage | GPU-Util  Compute M. |\r\n",
      "|                               |                      |               MIG M. |\r\n",
      "|===============================+======================+======================|\r\n",
      "|   0  Quadro K620         Off  | 00000000:03:00.0 Off |                  N/A |\r\n",
      "| 34%   43C    P8     1W /  30W |     90MiB /  1993MiB |      0%      Default |\r\n",
      "|                               |                      |                  N/A |\r\n",
      "+-------------------------------+----------------------+----------------------+\r\n",
      "|   1  Tesla K40c          Off  | 00000000:04:00.0 Off |                    0 |\r\n",
      "| 23%   34C    P8    21W / 235W |      5MiB / 11441MiB |      0%      Default |\r\n",
      "|                               |                      |                  N/A |\r\n",
      "+-------------------------------+----------------------+----------------------+\r\n",
      "                                                                               \r\n",
      "+-----------------------------------------------------------------------------+\r\n",
      "| Processes:                                                                  |\r\n",
      "|  GPU   GI   CI        PID   Type   Process name                  GPU Memory |\r\n",
      "|        ID   ID                                                   Usage      |\r\n",
      "|=============================================================================|\r\n",
      "|    0   N/A  N/A      1308      G   /usr/lib/xorg/Xorg                 56MiB |\r\n",
      "|    0   N/A  N/A      1467      G   /usr/bin/gnome-shell               29MiB |\r\n",
      "|    1   N/A  N/A      1308      G   /usr/lib/xorg/Xorg                  4MiB |\r\n",
      "+-----------------------------------------------------------------------------+\r\n"
     ]
    }
   ],
   "source": [
    "!nvidia-smi"
   ]
  },
  {
   "cell_type": "markdown",
   "metadata": {},
   "source": [
    "On the target system, the default GPU is Tesla K40, which is an older and less powerful GPU based on the Kepler architecture. Running the code on the other GPU based on the Maxwell architecture (still old, but better than Kepler) might give us some performance boost. \n",
    "\n",
    "To offload the code to the GPU with device ID 1, we can simply specify the device ID in the target directive as shown below. "
   ]
  },
  {
   "cell_type": "code",
   "execution_count": 37,
   "metadata": {},
   "outputs": [
    {
     "name": "stdout",
     "output_type": "stream",
     "text": [
      "Overwriting scale.cpp\n"
     ]
    }
   ],
   "source": [
    "%%writefile scale.cpp\n",
    "#include<iostream>\n",
    "#include<omp.h>\n",
    "\n",
    "using namespace std;\n",
    "\n",
    "int main() {\n",
    "  unsigned N = 10000;\n",
    "  // float *data = static_cast<float *>(malloc(N * sizeof(float)));\n",
    "  float data[N];\n",
    "  for (unsigned i = 0; i < N; i++) \n",
    "    data[i] = i;\n",
    "#pragma omp target device(1) \n",
    "  for (unsigned i = 0; i < N; i++) \n",
    "    data[i] *= 3.14;\n",
    "  \n",
    "  cout << \"Computation Done!\" << endl; \n",
    "  for (unsigned i = 0; i < 1; i++) \n",
    "    cout << data[i] << endl;\n",
    "\n",
    "  return 0;\n",
    "}"
   ]
  },
  {
   "cell_type": "code",
   "execution_count": 38,
   "metadata": {},
   "outputs": [],
   "source": [
    "!g++ -o scale scale.cpp -fno-stack-protector -foffload=nvptx-none -fopenmp"
   ]
  },
  {
   "cell_type": "code",
   "execution_count": 39,
   "metadata": {},
   "outputs": [
    {
     "name": "stdout",
     "output_type": "stream",
     "text": [
      " GPU activities:   99.84%  8.7503ms         1  8.7503ms  8.7503ms  8.7503ms  main$_omp_fn$0\r\n"
     ]
    }
   ],
   "source": [
    "!/usr/local/cuda/bin/nvprof  ./scale 2>&1 | grep main"
   ]
  },
  {
   "cell_type": "markdown",
   "metadata": {},
   "source": [
    "By selecting the right device for offloading, we were able to get a 50% performance boost. Of course, we haven't parallelized the code yet. So this performance improvement is not really meaningful. "
   ]
  }
 ],
 "metadata": {
  "kernelspec": {
   "display_name": "Python 3",
   "language": "python",
   "name": "python3"
  },
  "language_info": {
   "codemirror_mode": {
    "name": "ipython",
    "version": 3
   },
   "file_extension": ".py",
   "mimetype": "text/x-python",
   "name": "python",
   "nbconvert_exporter": "python",
   "pygments_lexer": "ipython3",
   "version": "3.8.5"
  }
 },
 "nbformat": 4,
 "nbformat_minor": 4
}
