{
 "cells": [
  {
   "cell_type": "markdown",
   "metadata": {},
   "source": [
    "### OpenMP Device Check \n",
    "\n",
    "OpenMP uses host-device programming model. Multiple devices are connected to a host. Initial thread begins execution on the host. Tasks are offloaded to devices. In this model a GPU is a _device_. For GPU `target` offloading to work, we need to make sure that at least one GPU is connected to OpenMP. The following program checks and reports the number of devices connected to OpenMP. \n",
    "\n",
    "The cell below with can be edited in-place. When executed, the cell will save the file `device_check.cpp` in the current directory. "
   ]
  },
  {
   "cell_type": "code",
   "execution_count": 8,
   "metadata": {},
   "outputs": [
    {
     "name": "stdout",
     "output_type": "stream",
     "text": [
      "Overwriting device_check.cpp\n"
     ]
    }
   ],
   "source": [
    "%%writefile device_check.cpp\n",
    "#include<stdio.h>\n",
    "#include<omp.h>\n",
    "\n",
    "int main() {\n",
    "  unsigned int devs = omp_get_num_devices();\n",
    "\n",
    "  if (devs > 0) \n",
    "    printf(\"There are %d devices\\n\", omp_get_num_devices());\n",
    "  else\n",
    "    printf(\"No devices connected. OpenMP GPU offloading will not work.\\n\"); \n",
    "    return 0;\n",
    "}"
   ]
  },
  {
   "cell_type": "markdown",
   "metadata": {},
   "source": [
    "We can compile the code with the following"
   ]
  },
  {
   "cell_type": "code",
   "execution_count": 14,
   "metadata": {},
   "outputs": [],
   "source": [
    "!g++ -o device_check device_check.cpp -fno-stack-protector -foffload=nvptx-none -fopenmp"
   ]
  },
  {
   "cell_type": "markdown",
   "metadata": {},
   "source": [
    "Note, in this instance the `-fno-stack-protector` and `-foffload=nvptx-none` flags are not necessary since we are not offloading anything to the GPU. Using the flags doesn't hurt in anayway and we include them here just as a matter of practice.  \n",
    "\n",
    "Now let's run the code."
   ]
  },
  {
   "cell_type": "code",
   "execution_count": 11,
   "metadata": {},
   "outputs": [
    {
     "name": "stdout",
     "output_type": "stream",
     "text": [
      "There are 2 devices\r\n"
     ]
    }
   ],
   "source": [
    "!./device_check"
   ]
  },
  {
   "cell_type": "markdown",
   "metadata": {},
   "source": [
    "In general, the number of devices should match the number of GPUs on your system/compute node. If the program shows no devices are connected then OpenMP target offload enviroment has not been set up properly."
   ]
  },
  {
   "cell_type": "code",
   "execution_count": null,
   "metadata": {},
   "outputs": [],
   "source": []
  }
 ],
 "metadata": {
  "kernelspec": {
   "display_name": "Python 3",
   "language": "python",
   "name": "python3"
  },
  "language_info": {
   "codemirror_mode": {
    "name": "ipython",
    "version": 3
   },
   "file_extension": ".py",
   "mimetype": "text/x-python",
   "name": "python",
   "nbconvert_exporter": "python",
   "pygments_lexer": "ipython3",
   "version": "3.8.5"
  }
 },
 "nbformat": 4,
 "nbformat_minor": 4
}
