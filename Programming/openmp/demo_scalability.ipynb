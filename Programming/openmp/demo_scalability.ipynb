{
 "cells": [
  {
   "cell_type": "markdown",
   "id": "96b88de4",
   "metadata": {},
   "source": [
    "## [Demo] OpenMP Performance Scalability \n",
    "[D2] Heterogeneous Programming with OpenMP  \n",
    "Apan Qasem [\\<apan@txstate.edu\\>](apan@txstate.edu)\n",
    "\n",
    "### Description\n",
    "\n",
    "This interactive demo discusses the importance and significance of thread count in OpenMP\n",
    "applications. It is assumed that students know how to write a Hello World program in OpenMP (e.g.,\n",
    "have completed the ([Hello World in OpenMP](demo_hello_world.md)) tutorial. \n",
    "\n",
    "The demo also introduces the `parallel for` directive. A simple matrix-scalar multiplication code is\n",
    "used as a running example. \n",
    "\n",
    "### Outline \n",
    "\n",
    "   * [The OpenMP Hello World Program](#hello)\n",
    "   * [Dynamic Thread Count](#timing)\n",
    "   * [Parallelizing with `parallel for`](#pragma) \n",
    "   * [Thread Count ans Scalability](#thread_count)\n",
    "\n",
    "\n",
    "### <a name=\"hello\"></a>The OpenMP Hello World Program\n",
    "\n",
    "Below is the Hello World program with OpenMP parallelization that we wrote in our previous tutorial\n",
    "([Hello World in OpenMP](demo_hello_world.md))."
   ]
  },
  {
   "cell_type": "code",
   "execution_count": null,
   "id": "8f2bfe96",
   "metadata": {
    "attributes": {
     "classes": [
      "C"
     ],
     "id": ""
    }
   },
   "outputs": [],
   "source": [
    "#include<stdio.h>\n",
    "#include<omp.h>\n",
    "\t\n",
    "int main() {\n",
    "\t\n",
    "  omp_set_num_threads(4);\n",
    "  #pragma omp parallel\n",
    "  {\n",
    "    printf(\"Hello World from thread %u of %u.\\n\", omp_get_thread_num(), omp_get_num_threads());\n",
    "    printf(\"Goodbye World from thread %u of %u.\\n\", omp_get_thread_num(), omp_get_num_threads());\n",
    "  }\n",
    "  return 0;\n",
    "}"
   ]
  },
  {
   "cell_type": "markdown",
   "id": "04afd5bc",
   "metadata": {},
   "source": [
    "The above program will run with 4 OpenMP threads. The parallel segment will print out the ID of each\n",
    "thread created by OpenMP and the total number of threads launched."
   ]
  },
  {
   "cell_type": "code",
   "execution_count": null,
   "id": "8ab4a7d8",
   "metadata": {},
   "outputs": [],
   "source": [
    "(ada)% gcc -o hello -fopenmp hello.c\n",
    "(ada)% ./hello \n",
    "Hello World from thread 0 of 4!\n",
    "Goodbye World from thread 0 of 4!\n",
    "Hello World from thread 1 of 4!\n",
    "Goodbye World from thread 1 of 4!\n",
    "Hello World from thread 3 of 4!\n",
    "Goodbye World from thread 3 of 4!\n",
    "Hello World from thread 2 of 4!\n",
    "Goodbye World from thread 2 of 4!\n"
   ]
  },
  {
   "cell_type": "markdown",
   "id": "bcb84822",
   "metadata": {},
   "source": [
    "### <a name=\"timing\"></a>Dynamic Thread Count \n",
    "\n",
    "Because we specified the thread count at compile-time, the above program will _always_  launched\n",
    "with 4 threads. threads. Generally, this is not a good approach when programming with OpenMP. We\n",
    "want better control over OpenMP threads and be able to specify the number of threads considering a\n",
    "variety of factors including the target CPU, input size and task granularity. \n",
    "\n",
    "\n",
    "To set the number of threads dynamically, we can pass the thread count to the program as a\n",
    "command-line argument."
   ]
  },
  {
   "cell_type": "code",
   "execution_count": null,
   "id": "838217be",
   "metadata": {
    "attributes": {
     "classes": [
      "C"
     ],
     "id": ""
    }
   },
   "outputs": [],
   "source": [
    "#include<stdio.h>\n",
    "#include<stdlib.h>\n",
    "#include<omp.h>\n",
    "\n",
    "int main(int argc, char* argv[]) {\n",
    "\n",
    "  int num_threads;\n",
    "  if (argc <= 1)\n",
    "    num_threads = 1;\n",
    "  else\n",
    "    num_threads = atoi(argv[1]);\n",
    "\n",
    "  omp_set_num_threads(num_threads);\n",
    "  ...\n",
    "  ..."
   ]
  },
  {
   "cell_type": "markdown",
   "id": "f8040bae",
   "metadata": {},
   "source": [
    "This approach will allow us to choose a different thread count for different runs of the\n",
    "program. Further, if we want to run the serial version of the code (say, for testing purposes), we\n",
    "can just pass 1 as the command-line argument. \n",
    "\n",
    "Let us run the sequential version and time the run."
   ]
  },
  {
   "cell_type": "code",
   "execution_count": null,
   "id": "b9714673",
   "metadata": {},
   "outputs": [],
   "source": [
    "(knuth)% time ./hello 1\n",
    "Hello World from 0!\n",
    "Goodbye World from 0!\n",
    "\n",
    "real\t0m0.004s\n",
    "user\t0m0.001s\n",
    "sys\t  0m0.004s"
   ]
  },
  {
   "cell_type": "markdown",
   "id": "14b5dbfc",
   "metadata": {},
   "source": [
    "The Linux `time` command doesn't really give us satisfactory resolution for measuring the\n",
    "performance of this _tiny_ program. We can use\n",
    "[`perf`](https://perf.wiki.kernel.org/index.php/Main_Page) to get better measurements."
   ]
  },
  {
   "cell_type": "code",
   "execution_count": null,
   "id": "2bb50c20",
   "metadata": {},
   "outputs": [],
   "source": [
    "(knuth)% perf stat ./hello 1\n",
    "    Hello World from 0!\n",
    "    Goodbye World from 0!"
   ]
  },
  {
   "cell_type": "markdown",
   "id": "7bf5c012",
   "metadata": {},
   "source": [
    "Performance counter stats for './hello 1':"
   ]
  },
  {
   "cell_type": "code",
   "execution_count": null,
   "id": "19e6473d",
   "metadata": {},
   "outputs": [],
   "source": [
    "2.240399      task-clock (msec)         #    0.864 CPUs utilized          \n",
    "       0      context-switches          #    0.000 K/sec                  \n",
    "       0      cpu-migrations            #    0.000 K/sec                  \n",
    "     118      page-faults               #    0.053 M/sec                  \n",
    "         3,788,857      cycles                    #    1.691 GHz                    \n",
    "         2,289,566      stalled-cycles-frontend   #   60.43% frontend cycles idle   \n",
    "         1,618,024      stalled-cycles-backend    #   42.70% backend cycles idle    \n",
    "         3,607,090      instructions              #    0.95  insn per cycle         \n",
    "                                        #    0.63  stalled cycles per insn\n",
    " 628,934      branches                  #  280.724 M/sec                  \n",
    "  19,700      branch-misses             #    3.13% of all branches        "
   ]
  },
  {
   "cell_type": "markdown",
   "id": "f50f45dd",
   "metadata": {},
   "source": [
    "0.002592641 seconds time elapsed\n",
    "\n",
    "Now, let's run the code with 2 threads."
   ]
  },
  {
   "cell_type": "code",
   "execution_count": null,
   "id": "99ab7731",
   "metadata": {},
   "outputs": [],
   "source": [
    "(knuth)% perf stat ./hello 2\n",
    "Hello World from 0!\n",
    "Goodbye World from 0!\n",
    "Hello World from 1!\n",
    "Goodbye World from 1!\n",
    "\n",
    "Performance counter stats for './hello 2':\n",
    "\n",
    "      2.384980      task-clock (msec)         #    0.912 CPUs utilized          \n",
    "             1      context-switches          #    0.419 K/sec                  \n",
    "             0      cpu-migrations            #    0.000 K/sec                  \n",
    "           121      page-faults               #    0.051 M/sec                  \n",
    "     4,249,512      cycles                    #    1.782 GHz                    \n",
    "     2,662,123      stalled-cycles-frontend   #   62.65% frontend cycles idle   \n",
    "     1,932,917      stalled-cycles-backend    #   45.49% backend cycles idle    \n",
    "     3,694,681      instructions              #    0.87  insn per cycle         \n",
    "                                              #    0.72  stalled cycles per insn\n",
    "       654,539      branches                  #  274.442 M/sec                  \n",
    "        21,580      branch-misses             #    3.30% of all branches        \n",
    "\n",
    "   0.002616198 seconds time elapsed"
   ]
  },
  {
   "cell_type": "markdown",
   "id": "a5b4ce3e",
   "metadata": {},
   "source": [
    "_How much performance improvement do we get by running this code in parallel?_\n",
    "\n",
    "None! This very simple code is not useful for doing any kind of performance analysis. \n",
    "\n",
    "### <a name=\"pragma\"></a>Parallelizing with `parallel for`\n",
    "\n",
    "Let's look at a code that is slightly more complex."
   ]
  },
  {
   "cell_type": "code",
   "execution_count": null,
   "id": "b89b7e3e",
   "metadata": {
    "attributes": {
     "classes": [
      "C"
     ],
     "id": ""
    }
   },
   "outputs": [],
   "source": [
    "for p(j = 0; j < M; j++)\n",
    "  for (i = 0; i < M; i++)\n",
    "    b[i][j] = i + j;\n",
    "\n",
    "t0 = mysecond();\n",
    "#pragma omp parallel for\n",
    "  for (int k = 0; k < REPS; k++) {\n",
    "    for (int j = 0; j < M; j++)\n",
    "      for (int i = 0; i < M; i++)\n",
    "        a[i][j] = b[i][j] * 17;\n",
    "  }\n",
    "\n",
    "t0 = (mysecond() - t0) * 1.e3;\n",
    "printf(\"parallel loop = %3.2f ms\\n\", t0);"
   ]
  },
  {
   "cell_type": "markdown",
   "id": "46eaed3c",
   "metadata": {},
   "source": [
    "The above program scales the values in an array by a constant factor. The loop is parallelized with the\n",
    "`parallel for` directive. This directive is an extension of the `parallel` directive and is applied\n",
    "exclusively to the *next* for loop. The `parallel for` directive will equally divide the iterations\n",
    "of the loop and run them in parallel. The number of threads to be created is passed via a command-line\n",
    "argument. There's a built-in timer to record the execution time of the parallel loop. \n",
    "\n",
    "\n",
    "\n",
    "### <a name=\"thread_count\"></a>Thread Count and Scalability \n",
    "\n",
    "Let's build and execute the sequential version of the code."
   ]
  },
  {
   "cell_type": "code",
   "execution_count": null,
   "id": "6dd1c349",
   "metadata": {},
   "outputs": [],
   "source": [
    "(knuth)% g++ -o scale scale.c -fopenmp\n",
    "(knuth)% ./scale 1000 1\n",
    "result = 578.00\n",
    "parallel loop = 1936.35 ms"
   ]
  },
  {
   "cell_type": "markdown",
   "id": "57a5be3c",
   "metadata": {},
   "source": [
    "Let's run it with 2 threads."
   ]
  },
  {
   "cell_type": "code",
   "execution_count": null,
   "id": "8117a6aa",
   "metadata": {},
   "outputs": [],
   "source": [
    "(knuth)% ./scale 1000 2\n",
    "result = 578.00\n",
    "parallel loop = 1251.09 ms"
   ]
  },
  {
   "cell_type": "markdown",
   "id": "a3429e7e",
   "metadata": {},
   "source": [
    "The parallel version runs significantly faster. However note, even with this very simple code we are\n",
    "not able to double the performance when we increase the number of threads from 1 to 2. \n",
    "\n",
    "_Why?_\n",
    "\n",
    "See [Heterogeneous Computing: Elementary Notions](../../Fundamentals/elementary_notions) for one\n",
    "explanation. \n",
    "\n",
    "\n",
    "Now let's run the code with 12 threads which is what OpenMP would pick for this system if we did not\n",
    "specify the thread count ourselves."
   ]
  },
  {
   "cell_type": "code",
   "execution_count": null,
   "id": "018f7d97",
   "metadata": {},
   "outputs": [],
   "source": [
    "(knuth)% ./scale 1000 12\n",
    "result = 578.00\n",
    "parallel loop = 419.77 ms\n",
    "(knuth)% "
   ]
  },
  {
   "cell_type": "markdown",
   "id": "033561b1",
   "metadata": {},
   "source": [
    "This gives use about a 5x performance improvement over the sequential code. Not bad... but\n",
    "not ideal either. \n",
    "\n",
    "_What if we kept on increasing the number of threads, do we expect to get more parallelism?_"
   ]
  },
  {
   "cell_type": "code",
   "execution_count": null,
   "id": "a2801b1a",
   "metadata": {},
   "outputs": [],
   "source": [
    "(knuth)% ./scale 1000 32\n",
    "result = 578.00\n",
    "parallel loop = 373.80 ms\n",
    "(knuth)% ./scale 1000 64\n",
    "result = 578.00\n",
    "parallel loop = 374.94 ms\n",
    "(knuth)% ./scale 1000 128\n",
    "result = 578.00\n",
    "parallel loop = 375.71 ms"
   ]
  },
  {
   "cell_type": "markdown",
   "id": "f8868c4a",
   "metadata": {},
   "source": [
    "_Does this performance pattern reminds us of something?_\n",
    "\n",
    "This program becomes [compute-bound](https://en.wikipedia.org/wiki/CPU-bound) when the number of\n",
    "threads is substantially higher than the available processing cores. At that point increasing the\n",
    "number of threads doesn't give us any benefits (in fact in some cases it can actually hurt due to\n",
    "thread creation overhead). \n",
    "\n",
    "The ideal number of threads for a given program depends on many factors. Often some fine-tuning is\n",
    "necessary. \n",
    "\n",
    "### Exercise \n",
    "\n",
    "Compile and run the `matrix-scale` code on your own machine with increasing number of\n",
    "threads. What is the ideal thread count?"
   ]
  }
 ],
 "metadata": {},
 "nbformat": 4,
 "nbformat_minor": 5
}
