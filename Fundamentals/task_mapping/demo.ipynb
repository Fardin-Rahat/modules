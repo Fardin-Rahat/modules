{
 "cells": [
  {
   "cell_type": "markdown",
   "metadata": {},
   "source": [
    "## [Demo] Task Mapping on a DVFS-enabled Heterogeneous System\n",
    "[A2] Task Mapping on Soft Heterogeneous Systems   \n",
    "Apan Qasem [\\<apan@txstate.edu\\>](apan@txstate.edu)\n",
    "\n",
    "\n",
    "### Description \n",
    "\n",
    "Demonstrate the performance and energy impact of operational frequency on heterogeneous multicore systems. \n",
    "\n",
    "### Software and Tools\n",
    "\n",
    "The following Linux tools are used in this demo.\n",
    "\n",
    "  * `cpufrequtils`\n",
    "  * `cpupower`\n",
    "  * `perf`\n",
    "  * `energy`\n",
    "  * `taskset`\n",
    "\n",
    "The demo also includes a simple C++/OpenMP code that performance matrix-vector multiplication in\n",
    "parallel. \n"
   ]
  },
  {
   "cell_type": "markdown",
   "metadata": {},
   "source": [
    "### Environment\n",
    "\n",
    "Below are instructions for setting a homogenous multicore system as a DVFS-supported heterogeneous platform. \n",
    "These steps should be carried out prior to class time. We created a [script](./code/build_hc_env.sh)\n",
    "to carry out these tasks automatically. Note the below tasks require root access. Follow the\n",
    "guidelines in the script if root access is not available. \n",
    "\n",
    "**0. Download sample codes and utility scripts from the ToUCH repo**\n",
    "\n",
    "An OpenMP parallel implementation of matrix-vector multiplication is used as a running example for\n",
    "this demo. There are three utlity scripts for tweaking the frequencies.  \n",
    "\n",
    "```bash \n",
    "git clone https://github.com/TeachingUndergradsCHC/modules.git\n",
    "```\n",
    " \n",
    "**1. Install necessary packages and their dependencies**\n",
    "\n",
    "Install `cpufrequtils`"
   ]
  },
  {
   "cell_type": "code",
   "execution_count": 8,
   "metadata": {},
   "outputs": [
    {
     "name": "stdout",
     "output_type": "stream",
     "text": [
      "Reading package lists... Done\n",
      "Building dependency tree       \n",
      "Reading state information... Done\n",
      "cpufrequtils is already the newest version (008-1build1).\n",
      "0 upgraded, 0 newly installed, 0 to remove and 1 not upgraded.\n"
     ]
    }
   ],
   "source": [
    "sudo apt install cpufrequtils"
   ]
  },
  {
   "cell_type": "markdown",
   "metadata": {},
   "source": [
    "Install `perf`, `taskset` and `cpupower` if they are not alreay installed. These tools are available\n",
    "in the common tools package "
   ]
  },
  {
   "cell_type": "code",
   "execution_count": 9,
   "metadata": {},
   "outputs": [
    {
     "name": "stdout",
     "output_type": "stream",
     "text": [
      "Reading package lists... Done\n",
      "Building dependency tree       \n",
      "Reading state information... Done\n",
      "linux-tools-common is already the newest version (4.15.0-136.140).\n",
      "0 upgraded, 0 newly installed, 0 to remove and 1 not upgraded.\n"
     ]
    }
   ],
   "source": [
    "sudo apt install linux-tools-common"
   ]
  },
  {
   "cell_type": "code",
   "execution_count": 10,
   "metadata": {},
   "outputs": [
    {
     "name": "stdout",
     "output_type": "stream",
     "text": [
      "uname-r: command not found\n",
      "Reading package lists... Done\n",
      "Building dependency tree       \n",
      "Reading state information... Done\n",
      "Virtual packages like 'linux-tools' can't be removed\n",
      "0 upgraded, 0 newly installed, 0 to remove and 1 not upgraded.\n"
     ]
    }
   ],
   "source": [
    "sudo apt install linux-tools-`uname-r`"
   ]
  },
  {
   "cell_type": "markdown",
   "metadata": {},
   "source": [
    "**2. Check CPU clock frequencies**\n",
    "\n",
    "Clock frequencies of individual cores can be inspected with various utilites. "
   ]
  },
  {
   "cell_type": "code",
   "execution_count": 12,
   "metadata": {},
   "outputs": [
    {
     "name": "stdout",
     "output_type": "stream",
     "text": [
      "processor\t: 0\n",
      "vendor_id\t: GenuineIntel\n",
      "cpu family\t: 6\n",
      "model\t\t: 63\n",
      "model name\t: Intel(R) Xeon(R) CPU E5-2630 v3 @ 2.40GHz\n",
      "stepping\t: 2\n",
      "microcode\t: 0x27\n",
      "cpu MHz\t\t: 1601.556\n",
      "cache size\t: 20480 KB\n",
      "physical id\t: 0\n",
      "siblings\t: 16\n",
      "core id\t\t: 0\n",
      "cpu cores\t: 8\n",
      "apicid\t\t: 0\n",
      "initial apicid\t: 0\n",
      "fpu\t\t: yes\n",
      "fpu_exception\t: yes\n",
      "cpuid level\t: 15\n",
      "wp\t\t: yes\n",
      "flags\t\t: fpu vme de pse tsc msr pae mce cx8 apic sep mtrr pge mca cmov pat pse36 clflush dts acpi mmx fxsr sse sse2 ss ht tm pbe syscall nx pdpe1gb rdtscp lm constant_tsc arch_perfmon pebs bts rep_good nopl xtopology nonstop_tsc cpuid aperfmperf pni pclmulqdq dtes64 monitor ds_cpl vmx smx est tm2 ssse3 sdbg fma cx16 xtpr pdcm pcid dca sse4_1 sse4_2 x2apic movbe popcnt aes xsave avx f16c rdrand lahf_lm abm cpuid_fault epb invpcid_single pti intel_ppin tpr_shadow vnmi flexpriority ept vpid fsgsbase tsc_adjust bmi1 avx2 smep bmi2 erms invpcid cqm xsaveopt cqm_llc cqm_occup_llc dtherm ida arat pln pts\n",
      "bugs\t\t: cpu_meltdown spectre_v1 spectre_v2 spec_store_bypass l1tf mds swapgs\n",
      "bogomips\t: 4788.89\n",
      "clflush size\t: 64\n",
      "cache_alignment\t: 64\n",
      "address sizes\t: 46 bits physical, 48 bits virtual\n",
      "power management:\n",
      "\n",
      "processor\t: 1\n",
      "vendor_id\t: GenuineIntel\n",
      "cpu family\t: 6\n",
      "model\t\t: 63\n",
      "model name\t: Intel(R) Xeon(R) CPU E5-2630 v3 @ 2.40GHz\n",
      "stepping\t: 2\n",
      "microcode\t: 0x27\n",
      "cpu MHz\t\t: 1796.469\n",
      "cache size\t: 20480 KB\n",
      "physical id\t: 0\n",
      "siblings\t: 16\n",
      "core id\t\t: 1\n",
      "cpu cores\t: 8\n",
      "apicid\t\t: 2\n",
      "initial apicid\t: 2\n",
      "fpu\t\t: yes\n",
      "fpu_exception\t: yes\n",
      "cpuid level\t: 15\n",
      "wp\t\t: yes\n",
      "flags\t\t: fpu vme de pse tsc msr pae mce cx8 apic sep mtrr pge mca cmov pat pse36 clflush dts acpi mmx fxsr sse sse2 ss ht tm pbe syscall nx pdpe1gb rdtscp lm constant_tsc arch_perfmon pebs bts rep_good nopl xtopology nonstop_tsc cpuid aperfmperf pni pclmulqdq dtes64 monitor ds_cpl vmx smx est tm2 ssse3 sdbg fma cx16 xtpr pdcm pcid dca sse4_1 sse4_2 x2apic movbe popcnt aes xsave avx f16c rdrand lahf_lm abm cpuid_fault epb invpcid_single pti intel_ppin tpr_shadow vnmi flexpriority ept vpid fsgsbase tsc_adjust bmi1 avx2 smep bmi2 erms invpcid cqm xsaveopt cqm_llc cqm_occup_llc dtherm ida arat pln pts\n",
      "bugs\t\t: cpu_meltdown spectre_v1 spectre_v2 spec_store_bypass l1tf mds swapgs\n",
      "bogomips\t: 4788.89\n",
      "clflush size\t: 64\n",
      "cache_alignment\t: 64\n",
      "address sizes\t: 46 bits physical, 48 bits virtual\n",
      "power management:\n",
      "\n",
      "processor\t: 2\n",
      "vendor_id\t: GenuineIntel\n",
      "cpu family\t: 6\n",
      "model\t\t: 63\n",
      "model name\t: Intel(R) Xeon(R) CPU E5-2630 v3 @ 2.40GHz\n",
      "stepping\t: 2\n",
      "microcode\t: 0x27\n",
      "cpu MHz\t\t: 1796.440\n",
      "cache size\t: 20480 KB\n",
      "physical id\t: 0\n",
      "siblings\t: 16\n",
      "core id\t\t: 2\n",
      "cpu cores\t: 8\n",
      "apicid\t\t: 4\n",
      "initial apicid\t: 4\n",
      "fpu\t\t: yes\n",
      "fpu_exception\t: yes\n",
      "cpuid level\t: 15\n",
      "wp\t\t: yes\n",
      "flags\t\t: fpu vme de pse tsc msr pae mce cx8 apic sep mtrr pge mca cmov pat pse36 clflush dts acpi mmx fxsr sse sse2 ss ht tm pbe syscall nx pdpe1gb rdtscp lm constant_tsc arch_perfmon pebs bts rep_good nopl xtopology nonstop_tsc cpuid aperfmperf pni pclmulqdq dtes64 monitor ds_cpl vmx smx est tm2 ssse3 sdbg fma cx16 xtpr pdcm pcid dca sse4_1 sse4_2 x2apic movbe popcnt aes xsave avx f16c rdrand lahf_lm abm cpuid_fault epb invpcid_single pti intel_ppin tpr_shadow vnmi flexpriority ept vpid fsgsbase tsc_adjust bmi1 avx2 smep bmi2 erms invpcid cqm xsaveopt cqm_llc cqm_occup_llc dtherm ida arat pln pts\n",
      "bugs\t\t: cpu_meltdown spectre_v1 spectre_v2 spec_store_bypass l1tf mds swapgs\n",
      "bogomips\t: 4788.89\n",
      "clflush size\t: 64\n",
      "cache_alignment\t: 64\n",
      "address sizes\t: 46 bits physical, 48 bits virtual\n",
      "power management:\n",
      "\n",
      "processor\t: 3\n",
      "vendor_id\t: GenuineIntel\n",
      "cpu family\t: 6\n",
      "model\t\t: 63\n",
      "model name\t: Intel(R) Xeon(R) CPU E5-2630 v3 @ 2.40GHz\n",
      "stepping\t: 2\n",
      "microcode\t: 0x27\n",
      "cpu MHz\t\t: 1574.445\n",
      "cache size\t: 20480 KB\n",
      "physical id\t: 0\n",
      "siblings\t: 16\n",
      "core id\t\t: 3\n",
      "cpu cores\t: 8\n",
      "apicid\t\t: 6\n",
      "initial apicid\t: 6\n",
      "fpu\t\t: yes\n",
      "fpu_exception\t: yes\n",
      "cpuid level\t: 15\n",
      "wp\t\t: yes\n",
      "flags\t\t: fpu vme de pse tsc msr pae mce cx8 apic sep mtrr pge mca cmov pat pse36 clflush dts acpi mmx fxsr sse sse2 ss ht tm pbe syscall nx pdpe1gb rdtscp lm constant_tsc arch_perfmon pebs bts rep_good nopl xtopology nonstop_tsc cpuid aperfmperf pni pclmulqdq dtes64 monitor ds_cpl vmx smx est tm2 ssse3 sdbg fma cx16 xtpr pdcm pcid dca sse4_1 sse4_2 x2apic movbe popcnt aes xsave avx f16c rdrand lahf_lm abm cpuid_fault epb invpcid_single pti intel_ppin tpr_shadow vnmi flexpriority ept vpid fsgsbase tsc_adjust bmi1 avx2 smep bmi2 erms invpcid cqm xsaveopt cqm_llc cqm_occup_llc dtherm ida arat pln pts\n",
      "bugs\t\t: cpu_meltdown spectre_v1 spectre_v2 spec_store_bypass l1tf mds swapgs\n",
      "bogomips\t: 4788.89\n",
      "clflush size\t: 64\n",
      "cache_alignment\t: 64\n",
      "address sizes\t: 46 bits physical, 48 bits virtual\n",
      "power management:\n",
      "\n",
      "processor\t: 4\n",
      "vendor_id\t: GenuineIntel\n",
      "cpu family\t: 6\n",
      "model\t\t: 63\n",
      "model name\t: Intel(R) Xeon(R) CPU E5-2630 v3 @ 2.40GHz\n",
      "stepping\t: 2\n",
      "microcode\t: 0x27\n",
      "cpu MHz\t\t: 1197.369\n",
      "cache size\t: 20480 KB\n",
      "physical id\t: 0\n",
      "siblings\t: 16\n",
      "core id\t\t: 4\n",
      "cpu cores\t: 8\n",
      "apicid\t\t: 8\n",
      "initial apicid\t: 8\n",
      "fpu\t\t: yes\n",
      "fpu_exception\t: yes\n",
      "cpuid level\t: 15\n",
      "wp\t\t: yes\n",
      "flags\t\t: fpu vme de pse tsc msr pae mce cx8 apic sep mtrr pge mca cmov pat pse36 clflush dts acpi mmx fxsr sse sse2 ss ht tm pbe syscall nx pdpe1gb rdtscp lm constant_tsc arch_perfmon pebs bts rep_good nopl xtopology nonstop_tsc cpuid aperfmperf pni pclmulqdq dtes64 monitor ds_cpl vmx smx est tm2 ssse3 sdbg fma cx16 xtpr pdcm pcid dca sse4_1 sse4_2 x2apic movbe popcnt aes xsave avx f16c rdrand lahf_lm abm cpuid_fault epb invpcid_single pti intel_ppin tpr_shadow vnmi flexpriority ept vpid fsgsbase tsc_adjust bmi1 avx2 smep bmi2 erms invpcid cqm xsaveopt cqm_llc cqm_occup_llc dtherm ida arat pln pts\n",
      "bugs\t\t: cpu_meltdown spectre_v1 spectre_v2 spec_store_bypass l1tf mds swapgs\n",
      "bogomips\t: 4788.89\n",
      "clflush size\t: 64\n",
      "cache_alignment\t: 64\n",
      "address sizes\t: 46 bits physical, 48 bits virtual\n",
      "power management:\n",
      "\n",
      "processor\t: 5\n",
      "vendor_id\t: GenuineIntel\n",
      "cpu family\t: 6\n",
      "model\t\t: 63\n",
      "model name\t: Intel(R) Xeon(R) CPU E5-2630 v3 @ 2.40GHz\n",
      "stepping\t: 2\n",
      "microcode\t: 0x27\n",
      "cpu MHz\t\t: 1198.305\n",
      "cache size\t: 20480 KB\n",
      "physical id\t: 0\n",
      "siblings\t: 16\n",
      "core id\t\t: 5\n",
      "cpu cores\t: 8\n",
      "apicid\t\t: 10\n",
      "initial apicid\t: 10\n",
      "fpu\t\t: yes\n",
      "fpu_exception\t: yes\n",
      "cpuid level\t: 15\n",
      "wp\t\t: yes\n",
      "flags\t\t: fpu vme de pse tsc msr pae mce cx8 apic sep mtrr pge mca cmov pat pse36 clflush dts acpi mmx fxsr sse sse2 ss ht tm pbe syscall nx pdpe1gb rdtscp lm constant_tsc arch_perfmon pebs bts rep_good nopl xtopology nonstop_tsc cpuid aperfmperf pni pclmulqdq dtes64 monitor ds_cpl vmx smx est tm2 ssse3 sdbg fma cx16 xtpr pdcm pcid dca sse4_1 sse4_2 x2apic movbe popcnt aes xsave avx f16c rdrand lahf_lm abm cpuid_fault epb invpcid_single pti intel_ppin tpr_shadow vnmi flexpriority ept vpid fsgsbase tsc_adjust bmi1 avx2 smep bmi2 erms invpcid cqm xsaveopt cqm_llc cqm_occup_llc dtherm ida arat pln pts\n",
      "bugs\t\t: cpu_meltdown spectre_v1 spectre_v2 spec_store_bypass l1tf mds swapgs\n",
      "bogomips\t: 4788.89\n",
      "clflush size\t: 64\n",
      "cache_alignment\t: 64\n",
      "address sizes\t: 46 bits physical, 48 bits virtual\n",
      "power management:\n",
      "\n",
      "processor\t: 6\n",
      "vendor_id\t: GenuineIntel\n",
      "cpu family\t: 6\n",
      "model\t\t: 63\n",
      "model name\t: Intel(R) Xeon(R) CPU E5-2630 v3 @ 2.40GHz\n",
      "stepping\t: 2\n",
      "microcode\t: 0x27\n",
      "cpu MHz\t\t: 1197.566\n",
      "cache size\t: 20480 KB\n",
      "physical id\t: 0\n",
      "siblings\t: 16\n",
      "core id\t\t: 6\n",
      "cpu cores\t: 8\n",
      "apicid\t\t: 12\n",
      "initial apicid\t: 12\n",
      "fpu\t\t: yes\n",
      "fpu_exception\t: yes\n",
      "cpuid level\t: 15\n",
      "wp\t\t: yes\n",
      "flags\t\t: fpu vme de pse tsc msr pae mce cx8 apic sep mtrr pge mca cmov pat pse36 clflush dts acpi mmx fxsr sse sse2 ss ht tm pbe syscall nx pdpe1gb rdtscp lm constant_tsc arch_perfmon pebs bts rep_good nopl xtopology nonstop_tsc cpuid aperfmperf pni pclmulqdq dtes64 monitor ds_cpl vmx smx est tm2 ssse3 sdbg fma cx16 xtpr pdcm pcid dca sse4_1 sse4_2 x2apic movbe popcnt aes xsave avx f16c rdrand lahf_lm abm cpuid_fault epb invpcid_single pti intel_ppin tpr_shadow vnmi flexpriority ept vpid fsgsbase tsc_adjust bmi1 avx2 smep bmi2 erms invpcid cqm xsaveopt cqm_llc cqm_occup_llc dtherm ida arat pln pts\n",
      "bugs\t\t: cpu_meltdown spectre_v1 spectre_v2 spec_store_bypass l1tf mds swapgs\n",
      "bogomips\t: 4788.89\n",
      "clflush size\t: 64\n",
      "cache_alignment\t: 64\n",
      "address sizes\t: 46 bits physical, 48 bits virtual\n",
      "power management:\n",
      "\n",
      "processor\t: 7\n",
      "vendor_id\t: GenuineIntel\n",
      "cpu family\t: 6\n",
      "model\t\t: 63\n",
      "model name\t: Intel(R) Xeon(R) CPU E5-2630 v3 @ 2.40GHz\n",
      "stepping\t: 2\n",
      "microcode\t: 0x27\n",
      "cpu MHz\t\t: 1197.974\n"
     ]
    },
    {
     "name": "stdout",
     "output_type": "stream",
     "text": [
      "cache size\t: 20480 KB\n",
      "physical id\t: 0\n",
      "siblings\t: 16\n",
      "core id\t\t: 7\n",
      "cpu cores\t: 8\n",
      "apicid\t\t: 14\n",
      "initial apicid\t: 14\n",
      "fpu\t\t: yes\n",
      "fpu_exception\t: yes\n",
      "cpuid level\t: 15\n",
      "wp\t\t: yes\n",
      "flags\t\t: fpu vme de pse tsc msr pae mce cx8 apic sep mtrr pge mca cmov pat pse36 clflush dts acpi mmx fxsr sse sse2 ss ht tm pbe syscall nx pdpe1gb rdtscp lm constant_tsc arch_perfmon pebs bts rep_good nopl xtopology nonstop_tsc cpuid aperfmperf pni pclmulqdq dtes64 monitor ds_cpl vmx smx est tm2 ssse3 sdbg fma cx16 xtpr pdcm pcid dca sse4_1 sse4_2 x2apic movbe popcnt aes xsave avx f16c rdrand lahf_lm abm cpuid_fault epb invpcid_single pti intel_ppin tpr_shadow vnmi flexpriority ept vpid fsgsbase tsc_adjust bmi1 avx2 smep bmi2 erms invpcid cqm xsaveopt cqm_llc cqm_occup_llc dtherm ida arat pln pts\n",
      "bugs\t\t: cpu_meltdown spectre_v1 spectre_v2 spec_store_bypass l1tf mds swapgs\n",
      "bogomips\t: 4788.89\n",
      "clflush size\t: 64\n",
      "cache_alignment\t: 64\n",
      "address sizes\t: 46 bits physical, 48 bits virtual\n",
      "power management:\n",
      "\n",
      "processor\t: 8\n",
      "vendor_id\t: GenuineIntel\n",
      "cpu family\t: 6\n",
      "model\t\t: 63\n",
      "model name\t: Intel(R) Xeon(R) CPU E5-2630 v3 @ 2.40GHz\n",
      "stepping\t: 2\n",
      "microcode\t: 0x27\n",
      "cpu MHz\t\t: 1557.055\n",
      "cache size\t: 20480 KB\n",
      "physical id\t: 0\n",
      "siblings\t: 16\n",
      "core id\t\t: 0\n",
      "cpu cores\t: 8\n",
      "apicid\t\t: 1\n",
      "initial apicid\t: 1\n",
      "fpu\t\t: yes\n",
      "fpu_exception\t: yes\n",
      "cpuid level\t: 15\n",
      "wp\t\t: yes\n",
      "flags\t\t: fpu vme de pse tsc msr pae mce cx8 apic sep mtrr pge mca cmov pat pse36 clflush dts acpi mmx fxsr sse sse2 ss ht tm pbe syscall nx pdpe1gb rdtscp lm constant_tsc arch_perfmon pebs bts rep_good nopl xtopology nonstop_tsc cpuid aperfmperf pni pclmulqdq dtes64 monitor ds_cpl vmx smx est tm2 ssse3 sdbg fma cx16 xtpr pdcm pcid dca sse4_1 sse4_2 x2apic movbe popcnt aes xsave avx f16c rdrand lahf_lm abm cpuid_fault epb invpcid_single pti intel_ppin tpr_shadow vnmi flexpriority ept vpid fsgsbase tsc_adjust bmi1 avx2 smep bmi2 erms invpcid cqm xsaveopt cqm_llc cqm_occup_llc dtherm ida arat pln pts\n",
      "bugs\t\t: cpu_meltdown spectre_v1 spectre_v2 spec_store_bypass l1tf mds swapgs\n",
      "bogomips\t: 4788.89\n",
      "clflush size\t: 64\n",
      "cache_alignment\t: 64\n",
      "address sizes\t: 46 bits physical, 48 bits virtual\n",
      "power management:\n",
      "\n",
      "processor\t: 9\n",
      "vendor_id\t: GenuineIntel\n",
      "cpu family\t: 6\n",
      "model\t\t: 63\n",
      "model name\t: Intel(R) Xeon(R) CPU E5-2630 v3 @ 2.40GHz\n",
      "stepping\t: 2\n",
      "microcode\t: 0x27\n",
      "cpu MHz\t\t: 1566.368\n",
      "cache size\t: 20480 KB\n",
      "physical id\t: 0\n",
      "siblings\t: 16\n",
      "core id\t\t: 1\n",
      "cpu cores\t: 8\n",
      "apicid\t\t: 3\n",
      "initial apicid\t: 3\n",
      "fpu\t\t: yes\n",
      "fpu_exception\t: yes\n",
      "cpuid level\t: 15\n",
      "wp\t\t: yes\n",
      "flags\t\t: fpu vme de pse tsc msr pae mce cx8 apic sep mtrr pge mca cmov pat pse36 clflush dts acpi mmx fxsr sse sse2 ss ht tm pbe syscall nx pdpe1gb rdtscp lm constant_tsc arch_perfmon pebs bts rep_good nopl xtopology nonstop_tsc cpuid aperfmperf pni pclmulqdq dtes64 monitor ds_cpl vmx smx est tm2 ssse3 sdbg fma cx16 xtpr pdcm pcid dca sse4_1 sse4_2 x2apic movbe popcnt aes xsave avx f16c rdrand lahf_lm abm cpuid_fault epb invpcid_single pti intel_ppin tpr_shadow vnmi flexpriority ept vpid fsgsbase tsc_adjust bmi1 avx2 smep bmi2 erms invpcid cqm xsaveopt cqm_llc cqm_occup_llc dtherm ida arat pln pts\n",
      "bugs\t\t: cpu_meltdown spectre_v1 spectre_v2 spec_store_bypass l1tf mds swapgs\n",
      "bogomips\t: 4788.89\n",
      "clflush size\t: 64\n",
      "cache_alignment\t: 64\n",
      "address sizes\t: 46 bits physical, 48 bits virtual\n",
      "power management:\n",
      "\n",
      "processor\t: 10\n",
      "vendor_id\t: GenuineIntel\n",
      "cpu family\t: 6\n",
      "model\t\t: 63\n",
      "model name\t: Intel(R) Xeon(R) CPU E5-2630 v3 @ 2.40GHz\n",
      "stepping\t: 2\n",
      "microcode\t: 0x27\n",
      "cpu MHz\t\t: 1795.834\n",
      "cache size\t: 20480 KB\n",
      "physical id\t: 0\n",
      "siblings\t: 16\n",
      "core id\t\t: 2\n",
      "cpu cores\t: 8\n",
      "apicid\t\t: 5\n",
      "initial apicid\t: 5\n",
      "fpu\t\t: yes\n",
      "fpu_exception\t: yes\n",
      "cpuid level\t: 15\n",
      "wp\t\t: yes\n",
      "flags\t\t: fpu vme de pse tsc msr pae mce cx8 apic sep mtrr pge mca cmov pat pse36 clflush dts acpi mmx fxsr sse sse2 ss ht tm pbe syscall nx pdpe1gb rdtscp lm constant_tsc arch_perfmon pebs bts rep_good nopl xtopology nonstop_tsc cpuid aperfmperf pni pclmulqdq dtes64 monitor ds_cpl vmx smx est tm2 ssse3 sdbg fma cx16 xtpr pdcm pcid dca sse4_1 sse4_2 x2apic movbe popcnt aes xsave avx f16c rdrand lahf_lm abm cpuid_fault epb invpcid_single pti intel_ppin tpr_shadow vnmi flexpriority ept vpid fsgsbase tsc_adjust bmi1 avx2 smep bmi2 erms invpcid cqm xsaveopt cqm_llc cqm_occup_llc dtherm ida arat pln pts\n",
      "bugs\t\t: cpu_meltdown spectre_v1 spectre_v2 spec_store_bypass l1tf mds swapgs\n",
      "bogomips\t: 4788.89\n",
      "clflush size\t: 64\n",
      "cache_alignment\t: 64\n",
      "address sizes\t: 46 bits physical, 48 bits virtual\n",
      "power management:\n",
      "\n",
      "processor\t: 11\n",
      "vendor_id\t: GenuineIntel\n",
      "cpu family\t: 6\n",
      "model\t\t: 63\n",
      "model name\t: Intel(R) Xeon(R) CPU E5-2630 v3 @ 2.40GHz\n",
      "stepping\t: 2\n",
      "microcode\t: 0x27\n",
      "cpu MHz\t\t: 1741.395\n",
      "cache size\t: 20480 KB\n",
      "physical id\t: 0\n",
      "siblings\t: 16\n",
      "core id\t\t: 3\n",
      "cpu cores\t: 8\n",
      "apicid\t\t: 7\n",
      "initial apicid\t: 7\n",
      "fpu\t\t: yes\n",
      "fpu_exception\t: yes\n",
      "cpuid level\t: 15\n",
      "wp\t\t: yes\n",
      "flags\t\t: fpu vme de pse tsc msr pae mce cx8 apic sep mtrr pge mca cmov pat pse36 clflush dts acpi mmx fxsr sse sse2 ss ht tm pbe syscall nx pdpe1gb rdtscp lm constant_tsc arch_perfmon pebs bts rep_good nopl xtopology nonstop_tsc cpuid aperfmperf pni pclmulqdq dtes64 monitor ds_cpl vmx smx est tm2 ssse3 sdbg fma cx16 xtpr pdcm pcid dca sse4_1 sse4_2 x2apic movbe popcnt aes xsave avx f16c rdrand lahf_lm abm cpuid_fault epb invpcid_single pti intel_ppin tpr_shadow vnmi flexpriority ept vpid fsgsbase tsc_adjust bmi1 avx2 smep bmi2 erms invpcid cqm xsaveopt cqm_llc cqm_occup_llc dtherm ida arat pln pts\n",
      "bugs\t\t: cpu_meltdown spectre_v1 spectre_v2 spec_store_bypass l1tf mds swapgs\n",
      "bogomips\t: 4788.89\n",
      "clflush size\t: 64\n",
      "cache_alignment\t: 64\n",
      "address sizes\t: 46 bits physical, 48 bits virtual\n",
      "power management:\n",
      "\n",
      "processor\t: 12\n",
      "vendor_id\t: GenuineIntel\n",
      "cpu family\t: 6\n",
      "model\t\t: 63\n",
      "model name\t: Intel(R) Xeon(R) CPU E5-2630 v3 @ 2.40GHz\n",
      "stepping\t: 2\n",
      "microcode\t: 0x27\n",
      "cpu MHz\t\t: 1197.538\n",
      "cache size\t: 20480 KB\n",
      "physical id\t: 0\n",
      "siblings\t: 16\n",
      "core id\t\t: 4\n",
      "cpu cores\t: 8\n",
      "apicid\t\t: 9\n",
      "initial apicid\t: 9\n",
      "fpu\t\t: yes\n",
      "fpu_exception\t: yes\n",
      "cpuid level\t: 15\n",
      "wp\t\t: yes\n",
      "flags\t\t: fpu vme de pse tsc msr pae mce cx8 apic sep mtrr pge mca cmov pat pse36 clflush dts acpi mmx fxsr sse sse2 ss ht tm pbe syscall nx pdpe1gb rdtscp lm constant_tsc arch_perfmon pebs bts rep_good nopl xtopology nonstop_tsc cpuid aperfmperf pni pclmulqdq dtes64 monitor ds_cpl vmx smx est tm2 ssse3 sdbg fma cx16 xtpr pdcm pcid dca sse4_1 sse4_2 x2apic movbe popcnt aes xsave avx f16c rdrand lahf_lm abm cpuid_fault epb invpcid_single pti intel_ppin tpr_shadow vnmi flexpriority ept vpid fsgsbase tsc_adjust bmi1 avx2 smep bmi2 erms invpcid cqm xsaveopt cqm_llc cqm_occup_llc dtherm ida arat pln pts\n",
      "bugs\t\t: cpu_meltdown spectre_v1 spectre_v2 spec_store_bypass l1tf mds swapgs\n",
      "bogomips\t: 4788.89\n",
      "clflush size\t: 64\n",
      "cache_alignment\t: 64\n",
      "address sizes\t: 46 bits physical, 48 bits virtual\n",
      "power management:\n",
      "\n",
      "processor\t: 13\n",
      "vendor_id\t: GenuineIntel\n",
      "cpu family\t: 6\n",
      "model\t\t: 63\n",
      "model name\t: Intel(R) Xeon(R) CPU E5-2630 v3 @ 2.40GHz\n",
      "stepping\t: 2\n",
      "microcode\t: 0x27\n",
      "cpu MHz\t\t: 1197.260\n",
      "cache size\t: 20480 KB\n",
      "physical id\t: 0\n",
      "siblings\t: 16\n",
      "core id\t\t: 5\n",
      "cpu cores\t: 8\n",
      "apicid\t\t: 11\n",
      "initial apicid\t: 11\n",
      "fpu\t\t: yes\n",
      "fpu_exception\t: yes\n",
      "cpuid level\t: 15\n",
      "wp\t\t: yes\n",
      "flags\t\t: fpu vme de pse tsc msr pae mce cx8 apic sep mtrr pge mca cmov pat pse36 clflush dts acpi mmx fxsr sse sse2 ss ht tm pbe syscall nx pdpe1gb rdtscp lm constant_tsc arch_perfmon pebs bts rep_good nopl xtopology nonstop_tsc cpuid aperfmperf pni pclmulqdq dtes64 monitor ds_cpl vmx smx est tm2 ssse3 sdbg fma cx16 xtpr pdcm pcid dca sse4_1 sse4_2 x2apic movbe popcnt aes xsave avx f16c rdrand lahf_lm abm cpuid_fault epb invpcid_single pti intel_ppin tpr_shadow vnmi flexpriority ept vpid fsgsbase tsc_adjust bmi1 avx2 smep bmi2 erms invpcid cqm xsaveopt cqm_llc cqm_occup_llc dtherm ida arat pln pts\n",
      "bugs\t\t: cpu_meltdown spectre_v1 spectre_v2 spec_store_bypass l1tf mds swapgs\n",
      "bogomips\t: 4788.89\n",
      "clflush size\t: 64\n",
      "cache_alignment\t: 64\n",
      "address sizes\t: 46 bits physical, 48 bits virtual\n",
      "power management:\n",
      "\n",
      "processor\t: 14\n",
      "vendor_id\t: GenuineIntel\n",
      "cpu family\t: 6\n",
      "model\t\t: 63\n",
      "model name\t: Intel(R) Xeon(R) CPU E5-2630 v3 @ 2.40GHz\n",
      "stepping\t: 2\n",
      "microcode\t: 0x27\n",
      "cpu MHz\t\t: 1200.404\n",
      "cache size\t: 20480 KB\n",
      "physical id\t: 0\n",
      "siblings\t: 16\n",
      "core id\t\t: 6\n",
      "cpu cores\t: 8\n",
      "apicid\t\t: 13\n",
      "initial apicid\t: 13\n",
      "fpu\t\t: yes\n",
      "fpu_exception\t: yes\n",
      "cpuid level\t: 15\n"
     ]
    },
    {
     "name": "stdout",
     "output_type": "stream",
     "text": [
      "wp\t\t: yes\n",
      "flags\t\t: fpu vme de pse tsc msr pae mce cx8 apic sep mtrr pge mca cmov pat pse36 clflush dts acpi mmx fxsr sse sse2 ss ht tm pbe syscall nx pdpe1gb rdtscp lm constant_tsc arch_perfmon pebs bts rep_good nopl xtopology nonstop_tsc cpuid aperfmperf pni pclmulqdq dtes64 monitor ds_cpl vmx smx est tm2 ssse3 sdbg fma cx16 xtpr pdcm pcid dca sse4_1 sse4_2 x2apic movbe popcnt aes xsave avx f16c rdrand lahf_lm abm cpuid_fault epb invpcid_single pti intel_ppin tpr_shadow vnmi flexpriority ept vpid fsgsbase tsc_adjust bmi1 avx2 smep bmi2 erms invpcid cqm xsaveopt cqm_llc cqm_occup_llc dtherm ida arat pln pts\n",
      "bugs\t\t: cpu_meltdown spectre_v1 spectre_v2 spec_store_bypass l1tf mds swapgs\n",
      "bogomips\t: 4788.89\n",
      "clflush size\t: 64\n",
      "cache_alignment\t: 64\n",
      "address sizes\t: 46 bits physical, 48 bits virtual\n",
      "power management:\n",
      "\n",
      "processor\t: 15\n",
      "vendor_id\t: GenuineIntel\n",
      "cpu family\t: 6\n",
      "model\t\t: 63\n",
      "model name\t: Intel(R) Xeon(R) CPU E5-2630 v3 @ 2.40GHz\n",
      "stepping\t: 2\n",
      "microcode\t: 0x27\n",
      "cpu MHz\t\t: 1198.931\n",
      "cache size\t: 20480 KB\n",
      "physical id\t: 0\n",
      "siblings\t: 16\n",
      "core id\t\t: 7\n",
      "cpu cores\t: 8\n",
      "apicid\t\t: 15\n",
      "initial apicid\t: 15\n",
      "fpu\t\t: yes\n",
      "fpu_exception\t: yes\n",
      "cpuid level\t: 15\n",
      "wp\t\t: yes\n",
      "flags\t\t: fpu vme de pse tsc msr pae mce cx8 apic sep mtrr pge mca cmov pat pse36 clflush dts acpi mmx fxsr sse sse2 ss ht tm pbe syscall nx pdpe1gb rdtscp lm constant_tsc arch_perfmon pebs bts rep_good nopl xtopology nonstop_tsc cpuid aperfmperf pni pclmulqdq dtes64 monitor ds_cpl vmx smx est tm2 ssse3 sdbg fma cx16 xtpr pdcm pcid dca sse4_1 sse4_2 x2apic movbe popcnt aes xsave avx f16c rdrand lahf_lm abm cpuid_fault epb invpcid_single pti intel_ppin tpr_shadow vnmi flexpriority ept vpid fsgsbase tsc_adjust bmi1 avx2 smep bmi2 erms invpcid cqm xsaveopt cqm_llc cqm_occup_llc dtherm ida arat pln pts\n",
      "bugs\t\t: cpu_meltdown spectre_v1 spectre_v2 spec_store_bypass l1tf mds swapgs\n",
      "bogomips\t: 4788.89\n",
      "clflush size\t: 64\n",
      "cache_alignment\t: 64\n",
      "address sizes\t: 46 bits physical, 48 bits virtual\n",
      "power management:\n",
      "\n"
     ]
    }
   ],
   "source": [
    "cat /proc/cpuinfo"
   ]
  },
  {
   "cell_type": "code",
   "execution_count": 13,
   "metadata": {},
   "outputs": [
    {
     "name": "stdout",
     "output_type": "stream",
     "text": [
      "cpufrequtils 008: cpufreq-info (C) Dominik Brodowski 2004-2009\n",
      "Report errors and bugs to cpufreq@vger.kernel.org, please.\n",
      "analyzing CPU 0:\n",
      "  driver: intel_pstate\n",
      "  CPUs which run at the same hardware frequency: 0\n",
      "  CPUs which need to have their frequency coordinated by software: 0\n",
      "  maximum transition latency: 4294.55 ms.\n",
      "  hardware limits: 1.20 GHz - 3.20 GHz\n",
      "  available cpufreq governors: performance, powersave\n",
      "  current policy: frequency should be within 1.80 GHz and 1.80 GHz.\n",
      "                  The governor \"powersave\" may decide which speed to use\n",
      "                  within this range.\n",
      "  current CPU frequency is 1.55 GHz.\n",
      "analyzing CPU 1:\n",
      "  driver: intel_pstate\n",
      "  CPUs which run at the same hardware frequency: 1\n",
      "  CPUs which need to have their frequency coordinated by software: 1\n",
      "  maximum transition latency: 4294.55 ms.\n",
      "  hardware limits: 1.20 GHz - 3.20 GHz\n",
      "  available cpufreq governors: performance, powersave\n",
      "  current policy: frequency should be within 1.80 GHz and 1.80 GHz.\n",
      "                  The governor \"powersave\" may decide which speed to use\n",
      "                  within this range.\n",
      "  current CPU frequency is 1.70 GHz.\n",
      "analyzing CPU 2:\n",
      "  driver: intel_pstate\n",
      "  CPUs which run at the same hardware frequency: 2\n",
      "  CPUs which need to have their frequency coordinated by software: 2\n",
      "  maximum transition latency: 4294.55 ms.\n",
      "  hardware limits: 1.20 GHz - 3.20 GHz\n",
      "  available cpufreq governors: performance, powersave\n",
      "  current policy: frequency should be within 1.80 GHz and 1.80 GHz.\n",
      "                  The governor \"powersave\" may decide which speed to use\n",
      "                  within this range.\n",
      "  current CPU frequency is 1.55 GHz.\n",
      "analyzing CPU 3:\n",
      "  driver: intel_pstate\n",
      "  CPUs which run at the same hardware frequency: 3\n",
      "  CPUs which need to have their frequency coordinated by software: 3\n",
      "  maximum transition latency: 4294.55 ms.\n",
      "  hardware limits: 1.20 GHz - 3.20 GHz\n",
      "  available cpufreq governors: performance, powersave\n",
      "  current policy: frequency should be within 1.80 GHz and 1.80 GHz.\n",
      "                  The governor \"powersave\" may decide which speed to use\n",
      "                  within this range.\n",
      "  current CPU frequency is 2.13 GHz.\n",
      "analyzing CPU 4:\n",
      "  driver: intel_pstate\n",
      "  CPUs which run at the same hardware frequency: 4\n",
      "  CPUs which need to have their frequency coordinated by software: 4\n",
      "  maximum transition latency: 4294.55 ms.\n",
      "  hardware limits: 1.20 GHz - 3.20 GHz\n",
      "  available cpufreq governors: performance, powersave\n",
      "  current policy: frequency should be within 1.20 GHz and 3.20 GHz.\n",
      "                  The governor \"powersave\" may decide which speed to use\n",
      "                  within this range.\n",
      "  current CPU frequency is 1.20 GHz.\n",
      "analyzing CPU 5:\n",
      "  driver: intel_pstate\n",
      "  CPUs which run at the same hardware frequency: 5\n",
      "  CPUs which need to have their frequency coordinated by software: 5\n",
      "  maximum transition latency: 4294.55 ms.\n",
      "  hardware limits: 1.20 GHz - 3.20 GHz\n",
      "  available cpufreq governors: performance, powersave\n",
      "  current policy: frequency should be within 1.20 GHz and 3.20 GHz.\n",
      "                  The governor \"powersave\" may decide which speed to use\n",
      "                  within this range.\n",
      "  current CPU frequency is 1.20 GHz.\n",
      "analyzing CPU 6:\n",
      "  driver: intel_pstate\n",
      "  CPUs which run at the same hardware frequency: 6\n",
      "  CPUs which need to have their frequency coordinated by software: 6\n",
      "  maximum transition latency: 4294.55 ms.\n",
      "  hardware limits: 1.20 GHz - 3.20 GHz\n",
      "  available cpufreq governors: performance, powersave\n",
      "  current policy: frequency should be within 1.20 GHz and 3.20 GHz.\n",
      "                  The governor \"powersave\" may decide which speed to use\n",
      "                  within this range.\n",
      "  current CPU frequency is 1.20 GHz.\n",
      "analyzing CPU 7:\n",
      "  driver: intel_pstate\n",
      "  CPUs which run at the same hardware frequency: 7\n",
      "  CPUs which need to have their frequency coordinated by software: 7\n",
      "  maximum transition latency: 4294.55 ms.\n",
      "  hardware limits: 1.20 GHz - 3.20 GHz\n",
      "  available cpufreq governors: performance, powersave\n",
      "  current policy: frequency should be within 1.20 GHz and 3.20 GHz.\n",
      "                  The governor \"powersave\" may decide which speed to use\n",
      "                  within this range.\n",
      "  current CPU frequency is 1.20 GHz.\n",
      "analyzing CPU 8:\n",
      "  driver: intel_pstate\n",
      "  CPUs which run at the same hardware frequency: 8\n",
      "  CPUs which need to have their frequency coordinated by software: 8\n",
      "  maximum transition latency: 4294.55 ms.\n",
      "  hardware limits: 1.20 GHz - 3.20 GHz\n",
      "  available cpufreq governors: performance, powersave\n",
      "  current policy: frequency should be within 1.20 GHz and 3.20 GHz.\n",
      "                  The governor \"powersave\" may decide which speed to use\n",
      "                  within this range.\n",
      "  current CPU frequency is 1.60 GHz.\n",
      "analyzing CPU 9:\n",
      "  driver: intel_pstate\n",
      "  CPUs which run at the same hardware frequency: 9\n",
      "  CPUs which need to have their frequency coordinated by software: 9\n",
      "  maximum transition latency: 4294.55 ms.\n",
      "  hardware limits: 1.20 GHz - 3.20 GHz\n",
      "  available cpufreq governors: performance, powersave\n",
      "  current policy: frequency should be within 1.20 GHz and 3.20 GHz.\n",
      "                  The governor \"powersave\" may decide which speed to use\n",
      "                  within this range.\n",
      "  current CPU frequency is 1.69 GHz.\n",
      "analyzing CPU 10:\n",
      "  driver: intel_pstate\n",
      "  CPUs which run at the same hardware frequency: 10\n",
      "  CPUs which need to have their frequency coordinated by software: 10\n",
      "  maximum transition latency: 4294.55 ms.\n",
      "  hardware limits: 1.20 GHz - 3.20 GHz\n",
      "  available cpufreq governors: performance, powersave\n",
      "  current policy: frequency should be within 1.20 GHz and 3.20 GHz.\n",
      "                  The governor \"powersave\" may decide which speed to use\n",
      "                  within this range.\n",
      "  current CPU frequency is 1.80 GHz.\n",
      "analyzing CPU 11:\n",
      "  driver: intel_pstate\n",
      "  CPUs which run at the same hardware frequency: 11\n",
      "  CPUs which need to have their frequency coordinated by software: 11\n",
      "  maximum transition latency: 4294.55 ms.\n",
      "  hardware limits: 1.20 GHz - 3.20 GHz\n",
      "  available cpufreq governors: performance, powersave\n",
      "  current policy: frequency should be within 1.20 GHz and 3.20 GHz.\n",
      "                  The governor \"powersave\" may decide which speed to use\n",
      "                  within this range.\n",
      "  current CPU frequency is 2.07 GHz.\n",
      "analyzing CPU 12:\n",
      "  driver: intel_pstate\n",
      "  CPUs which run at the same hardware frequency: 12\n",
      "  CPUs which need to have their frequency coordinated by software: 12\n",
      "  maximum transition latency: 4294.55 ms.\n",
      "  hardware limits: 1.20 GHz - 3.20 GHz\n",
      "  available cpufreq governors: performance, powersave\n",
      "  current policy: frequency should be within 1.20 GHz and 3.20 GHz.\n",
      "                  The governor \"powersave\" may decide which speed to use\n",
      "                  within this range.\n",
      "  current CPU frequency is 1.20 GHz.\n",
      "analyzing CPU 13:\n",
      "  driver: intel_pstate\n",
      "  CPUs which run at the same hardware frequency: 13\n",
      "  CPUs which need to have their frequency coordinated by software: 13\n",
      "  maximum transition latency: 4294.55 ms.\n",
      "  hardware limits: 1.20 GHz - 3.20 GHz\n",
      "  available cpufreq governors: performance, powersave\n",
      "  current policy: frequency should be within 1.20 GHz and 3.20 GHz.\n",
      "                  The governor \"powersave\" may decide which speed to use\n",
      "                  within this range.\n",
      "  current CPU frequency is 1.20 GHz.\n",
      "analyzing CPU 14:\n",
      "  driver: intel_pstate\n",
      "  CPUs which run at the same hardware frequency: 14\n",
      "  CPUs which need to have their frequency coordinated by software: 14\n",
      "  maximum transition latency: 4294.55 ms.\n",
      "  hardware limits: 1.20 GHz - 3.20 GHz\n",
      "  available cpufreq governors: performance, powersave\n",
      "  current policy: frequency should be within 1.20 GHz and 3.20 GHz.\n",
      "                  The governor \"powersave\" may decide which speed to use\n",
      "                  within this range.\n",
      "  current CPU frequency is 1.20 GHz.\n",
      "analyzing CPU 15:\n",
      "  driver: intel_pstate\n",
      "  CPUs which run at the same hardware frequency: 15\n",
      "  CPUs which need to have their frequency coordinated by software: 15\n",
      "  maximum transition latency: 4294.55 ms.\n",
      "  hardware limits: 1.20 GHz - 3.20 GHz\n",
      "  available cpufreq governors: performance, powersave\n",
      "  current policy: frequency should be within 1.20 GHz and 3.20 GHz.\n",
      "                  The governor \"powersave\" may decide which speed to use\n"
     ]
    },
    {
     "name": "stdout",
     "output_type": "stream",
     "text": [
      "                  within this range.\n",
      "  current CPU frequency is 1.20 GHz.\n"
     ]
    }
   ],
   "source": [
    "cpufreq-info"
   ]
  },
  {
   "cell_type": "markdown",
   "metadata": {},
   "source": [
    "The ToUCH repository has a script that provides cleaner output. This script might be more suitable for the in-class demo. "
   ]
  },
  {
   "cell_type": "code",
   "execution_count": 17,
   "metadata": {},
   "outputs": [],
   "source": [
    "cd SIGCSE21"
   ]
  },
  {
   "cell_type": "code",
   "execution_count": 18,
   "metadata": {},
   "outputs": [
    {
     "name": "stdout",
     "output_type": "stream",
     "text": [
      "CPU0:\t180 GHz - 180 GHz\n",
      "CPU1:\t180 GHz - 180 GHz\n",
      "CPU2:\t180 GHz - 180 GHz\n",
      "CPU3:\t180 GHz - 180 GHz\n",
      "CPU4:\t120 GHz - 320 GHz\n",
      "CPU5:\t120 GHz - 320 GHz\n",
      "CPU6:\t120 GHz - 320 GHz\n",
      "CPU7:\t120 GHz - 320 GHz\n",
      "CPU8:\t120 GHz - 320 GHz\n",
      "CPU9:\t120 GHz - 320 GHz\n",
      "CPU10:\t120 GHz - 320 GHz\n",
      "CPU11:\t120 GHz - 320 GHz\n",
      "CPU12:\t120 GHz - 320 GHz\n",
      "CPU13:\t120 GHz - 320 GHz\n",
      "CPU14:\t120 GHz - 320 GHz\n",
      "CPU15:\t120 GHz - 320 GHz\n"
     ]
    }
   ],
   "source": [
    "./check_clk_speed.sh"
   ]
  },
  {
   "cell_type": "markdown",
   "metadata": {},
   "source": [
    "**3. Lower frequencies for a subset of cores**\n",
    "\n",
    "We will simulate a less powerful (i.e., _little_) core by lowering its frequency to the lowest allowed\n",
    "value. To lower the frequency of an individual we can use the `cpupower` utility. We need to root privileges to change the clock frequency (obviously!). The commands below lowers the frequency of core 0 to 1.80 GHz. "
   ]
  },
  {
   "cell_type": "code",
   "execution_count": 11,
   "metadata": {},
   "outputs": [
    {
     "name": "stdout",
     "output_type": "stream",
     "text": [
      "Setting cpu: 0\n",
      "Setting cpu: 0\n"
     ]
    }
   ],
   "source": [
    "sudo cpupower -c 0 frequency-set -d 1800000\n",
    "sudo cpupower -c 0 frequency-set -u 1800000"
   ]
  },
  {
   "cell_type": "markdown",
   "metadata": {},
   "source": [
    "Verify if the change has taken effect"
   ]
  },
  {
   "cell_type": "code",
   "execution_count": 19,
   "metadata": {},
   "outputs": [
    {
     "name": "stdout",
     "output_type": "stream",
     "text": [
      "CPU0:\t180 GHz - 180 GHz\n",
      "CPU1:\t180 GHz - 180 GHz\n",
      "CPU2:\t180 GHz - 180 GHz\n",
      "CPU3:\t180 GHz - 180 GHz\n",
      "CPU4:\t120 GHz - 320 GHz\n",
      "CPU5:\t120 GHz - 320 GHz\n",
      "CPU6:\t120 GHz - 320 GHz\n",
      "CPU7:\t120 GHz - 320 GHz\n",
      "CPU8:\t120 GHz - 320 GHz\n",
      "CPU9:\t120 GHz - 320 GHz\n",
      "CPU10:\t120 GHz - 320 GHz\n",
      "CPU11:\t120 GHz - 320 GHz\n",
      "CPU12:\t120 GHz - 320 GHz\n",
      "CPU13:\t120 GHz - 320 GHz\n",
      "CPU14:\t120 GHz - 320 GHz\n",
      "CPU15:\t120 GHz - 320 GHz\n"
     ]
    }
   ],
   "source": [
    "./check_clk_speed.sh"
   ]
  },
  {
   "cell_type": "markdown",
   "metadata": {},
   "source": [
    "The syntax for the `cpupower` utility is a little cumbersome when we are trying to fix the frequency to a specific value. The `set_clk_speed.sh` script in the ToUCH repo is a wrapper around `cpupower` that provides a cleaner interface. "
   ]
  },
  {
   "cell_type": "code",
   "execution_count": 20,
   "metadata": {},
   "outputs": [
    {
     "name": "stdout",
     "output_type": "stream",
     "text": [
      "Setting cpu: 0\n",
      "Setting cpu: 1\n",
      "Setting cpu: 2\n",
      "Setting cpu: 3\n",
      "Setting cpu: 0\n",
      "Setting cpu: 1\n",
      "Setting cpu: 2\n",
      "Setting cpu: 3\n"
     ]
    }
   ],
   "source": [
    "sudo ./set_clk_speed.sh 0-3 2.4"
   ]
  },
  {
   "cell_type": "code",
   "execution_count": 21,
   "metadata": {},
   "outputs": [
    {
     "name": "stdout",
     "output_type": "stream",
     "text": [
      "CPU0:\t240 GHz - 240 GHz\n",
      "CPU1:\t240 GHz - 240 GHz\n",
      "CPU2:\t240 GHz - 240 GHz\n",
      "CPU3:\t240 GHz - 240 GHz\n",
      "CPU4:\t120 GHz - 320 GHz\n",
      "CPU5:\t120 GHz - 320 GHz\n",
      "CPU6:\t120 GHz - 320 GHz\n",
      "CPU7:\t120 GHz - 320 GHz\n",
      "CPU8:\t120 GHz - 320 GHz\n",
      "CPU9:\t120 GHz - 320 GHz\n",
      "CPU10:\t120 GHz - 320 GHz\n",
      "CPU11:\t120 GHz - 320 GHz\n",
      "CPU12:\t120 GHz - 320 GHz\n",
      "CPU13:\t120 GHz - 320 GHz\n",
      "CPU14:\t120 GHz - 320 GHz\n",
      "CPU15:\t120 GHz - 320 GHz\n"
     ]
    }
   ],
   "source": [
    "./check_clk_speed.sh"
   ]
  },
  {
   "cell_type": "markdown",
   "metadata": {},
   "source": [
    "There is another script `reset_clk_speed.sh` that resets the frequencies to their default values. "
   ]
  },
  {
   "cell_type": "code",
   "execution_count": 22,
   "metadata": {},
   "outputs": [
    {
     "name": "stdout",
     "output_type": "stream",
     "text": [
      "Setting cpu: 0\n",
      "Setting cpu: 1\n",
      "Setting cpu: 2\n",
      "Setting cpu: 3\n"
     ]
    }
   ],
   "source": [
    "./reset_clk_speed.sh 0-3"
   ]
  },
  {
   "cell_type": "code",
   "execution_count": 23,
   "metadata": {},
   "outputs": [
    {
     "name": "stdout",
     "output_type": "stream",
     "text": [
      "CPU0:\t120 GHz - 320 GHz\n",
      "CPU1:\t120 GHz - 320 GHz\n",
      "CPU2:\t120 GHz - 320 GHz\n",
      "CPU3:\t120 GHz - 320 GHz\n",
      "CPU4:\t120 GHz - 320 GHz\n",
      "CPU5:\t120 GHz - 320 GHz\n",
      "CPU6:\t120 GHz - 320 GHz\n",
      "CPU7:\t120 GHz - 320 GHz\n",
      "CPU8:\t120 GHz - 320 GHz\n",
      "CPU9:\t120 GHz - 320 GHz\n",
      "CPU10:\t120 GHz - 320 GHz\n",
      "CPU11:\t120 GHz - 320 GHz\n",
      "CPU12:\t120 GHz - 320 GHz\n",
      "CPU13:\t120 GHz - 320 GHz\n",
      "CPU14:\t120 GHz - 320 GHz\n",
      "CPU15:\t120 GHz - 320 GHz\n"
     ]
    }
   ],
   "source": [
    "./check_clk_speed.sh"
   ]
  },
  {
   "cell_type": "markdown",
   "metadata": {},
   "source": [
    "To configure this 16-core system as \"big-LITTLE\", we will lower the frequencies for cores 0-7 and leave the rest at their defaul values. Cores 0-7 will serve as the _little_ cores and 8-15 will serve as the _big_ cores. Other more complex configurations can be easily set up if the instructor chooses to do a more involved (e.g., in a CS2 course rather CS1)"
   ]
  },
  {
   "cell_type": "code",
   "execution_count": 25,
   "metadata": {},
   "outputs": [
    {
     "name": "stdout",
     "output_type": "stream",
     "text": [
      "Setting cpu: 0\n",
      "Setting cpu: 1\n",
      "Setting cpu: 2\n",
      "Setting cpu: 3\n",
      "Setting cpu: 4\n",
      "Setting cpu: 5\n",
      "Setting cpu: 6\n",
      "Setting cpu: 7\n",
      "Setting cpu: 0\n",
      "Setting cpu: 1\n",
      "Setting cpu: 2\n",
      "Setting cpu: 3\n",
      "Setting cpu: 4\n",
      "Setting cpu: 5\n",
      "Setting cpu: 6\n",
      "Setting cpu: 7\n"
     ]
    }
   ],
   "source": [
    "./set_clk_speed.sh 0-7 1.8"
   ]
  },
  {
   "cell_type": "code",
   "execution_count": 26,
   "metadata": {},
   "outputs": [
    {
     "name": "stdout",
     "output_type": "stream",
     "text": [
      "CPU0:\t180 GHz - 180 GHz\n",
      "CPU1:\t180 GHz - 180 GHz\n",
      "CPU2:\t180 GHz - 180 GHz\n",
      "CPU3:\t180 GHz - 180 GHz\n",
      "CPU4:\t180 GHz - 180 GHz\n",
      "CPU5:\t180 GHz - 180 GHz\n",
      "CPU6:\t180 GHz - 180 GHz\n",
      "CPU7:\t180 GHz - 180 GHz\n",
      "CPU8:\t120 GHz - 320 GHz\n",
      "CPU9:\t120 GHz - 320 GHz\n",
      "CPU10:\t120 GHz - 320 GHz\n",
      "CPU11:\t120 GHz - 320 GHz\n",
      "CPU12:\t120 GHz - 320 GHz\n",
      "CPU13:\t120 GHz - 320 GHz\n",
      "CPU14:\t120 GHz - 320 GHz\n",
      "CPU15:\t120 GHz - 320 GHz\n"
     ]
    }
   ],
   "source": [
    "./check_clk_speed.sh"
   ]
  },
  {
   "cell_type": "markdown",
   "metadata": {},
   "source": [
    "### Instructions \n",
    "\n",
    "The main steps for the in-class demo are outlined below\n",
    "\n",
    "**1. Discuss heterogeneous system.**\n",
    "\n",
    "Log into system that has been set up to simulate a heterogeneous system (or use this notebook) and review it's attributes."
   ]
  },
  {
   "cell_type": "code",
   "execution_count": 27,
   "metadata": {},
   "outputs": [
    {
     "name": "stdout",
     "output_type": "stream",
     "text": [
      "cpufrequtils 008: cpufreq-info (C) Dominik Brodowski 2004-2009\n",
      "Report errors and bugs to cpufreq@vger.kernel.org, please.\n",
      "analyzing CPU 0:\n",
      "  driver: intel_pstate\n",
      "  CPUs which run at the same hardware frequency: 0\n",
      "  CPUs which need to have their frequency coordinated by software: 0\n",
      "  maximum transition latency: 4294.55 ms.\n",
      "  hardware limits: 1.20 GHz - 3.20 GHz\n",
      "  available cpufreq governors: performance, powersave\n",
      "  current policy: frequency should be within 1.80 GHz and 1.80 GHz.\n",
      "                  The governor \"powersave\" may decide which speed to use\n",
      "                  within this range.\n",
      "  current CPU frequency is 1.80 GHz.\n",
      "analyzing CPU 1:\n",
      "  driver: intel_pstate\n",
      "  CPUs which run at the same hardware frequency: 1\n",
      "  CPUs which need to have their frequency coordinated by software: 1\n",
      "  maximum transition latency: 4294.55 ms.\n",
      "  hardware limits: 1.20 GHz - 3.20 GHz\n",
      "  available cpufreq governors: performance, powersave\n",
      "  current policy: frequency should be within 1.80 GHz and 1.80 GHz.\n",
      "                  The governor \"powersave\" may decide which speed to use\n",
      "                  within this range.\n",
      "  current CPU frequency is 1.64 GHz.\n",
      "analyzing CPU 2:\n",
      "  driver: intel_pstate\n",
      "  CPUs which run at the same hardware frequency: 2\n",
      "  CPUs which need to have their frequency coordinated by software: 2\n",
      "  maximum transition latency: 4294.55 ms.\n",
      "  hardware limits: 1.20 GHz - 3.20 GHz\n",
      "  available cpufreq governors: performance, powersave\n",
      "  current policy: frequency should be within 1.80 GHz and 1.80 GHz.\n",
      "                  The governor \"powersave\" may decide which speed to use\n",
      "                  within this range.\n",
      "  current CPU frequency is 1.57 GHz.\n",
      "analyzing CPU 3:\n",
      "  driver: intel_pstate\n",
      "  CPUs which run at the same hardware frequency: 3\n",
      "  CPUs which need to have their frequency coordinated by software: 3\n",
      "  maximum transition latency: 4294.55 ms.\n",
      "  hardware limits: 1.20 GHz - 3.20 GHz\n",
      "  available cpufreq governors: performance, powersave\n",
      "  current policy: frequency should be within 1.80 GHz and 1.80 GHz.\n",
      "                  The governor \"powersave\" may decide which speed to use\n",
      "                  within this range.\n",
      "  current CPU frequency is 2.40 GHz.\n",
      "analyzing CPU 4:\n",
      "  driver: intel_pstate\n",
      "  CPUs which run at the same hardware frequency: 4\n",
      "  CPUs which need to have their frequency coordinated by software: 4\n",
      "  maximum transition latency: 4294.55 ms.\n",
      "  hardware limits: 1.20 GHz - 3.20 GHz\n",
      "  available cpufreq governors: performance, powersave\n",
      "  current policy: frequency should be within 1.80 GHz and 1.80 GHz.\n",
      "                  The governor \"powersave\" may decide which speed to use\n",
      "                  within this range.\n",
      "  current CPU frequency is 1.80 GHz.\n",
      "analyzing CPU 5:\n",
      "  driver: intel_pstate\n",
      "  CPUs which run at the same hardware frequency: 5\n",
      "  CPUs which need to have their frequency coordinated by software: 5\n",
      "  maximum transition latency: 4294.55 ms.\n",
      "  hardware limits: 1.20 GHz - 3.20 GHz\n",
      "  available cpufreq governors: performance, powersave\n",
      "  current policy: frequency should be within 1.80 GHz and 1.80 GHz.\n",
      "                  The governor \"powersave\" may decide which speed to use\n",
      "                  within this range.\n",
      "  current CPU frequency is 1.79 GHz.\n",
      "analyzing CPU 6:\n",
      "  driver: intel_pstate\n",
      "  CPUs which run at the same hardware frequency: 6\n",
      "  CPUs which need to have their frequency coordinated by software: 6\n",
      "  maximum transition latency: 4294.55 ms.\n",
      "  hardware limits: 1.20 GHz - 3.20 GHz\n",
      "  available cpufreq governors: performance, powersave\n",
      "  current policy: frequency should be within 1.80 GHz and 1.80 GHz.\n",
      "                  The governor \"powersave\" may decide which speed to use\n",
      "                  within this range.\n",
      "  current CPU frequency is 1.78 GHz.\n",
      "analyzing CPU 7:\n",
      "  driver: intel_pstate\n",
      "  CPUs which run at the same hardware frequency: 7\n",
      "  CPUs which need to have their frequency coordinated by software: 7\n",
      "  maximum transition latency: 4294.55 ms.\n",
      "  hardware limits: 1.20 GHz - 3.20 GHz\n",
      "  available cpufreq governors: performance, powersave\n",
      "  current policy: frequency should be within 1.80 GHz and 1.80 GHz.\n",
      "                  The governor \"powersave\" may decide which speed to use\n",
      "                  within this range.\n",
      "  current CPU frequency is 1.74 GHz.\n",
      "analyzing CPU 8:\n",
      "  driver: intel_pstate\n",
      "  CPUs which run at the same hardware frequency: 8\n",
      "  CPUs which need to have their frequency coordinated by software: 8\n",
      "  maximum transition latency: 4294.55 ms.\n",
      "  hardware limits: 1.20 GHz - 3.20 GHz\n",
      "  available cpufreq governors: performance, powersave\n",
      "  current policy: frequency should be within 1.20 GHz and 3.20 GHz.\n",
      "                  The governor \"powersave\" may decide which speed to use\n",
      "                  within this range.\n",
      "  current CPU frequency is 1.70 GHz.\n",
      "analyzing CPU 9:\n",
      "  driver: intel_pstate\n",
      "  CPUs which run at the same hardware frequency: 9\n",
      "  CPUs which need to have their frequency coordinated by software: 9\n",
      "  maximum transition latency: 4294.55 ms.\n",
      "  hardware limits: 1.20 GHz - 3.20 GHz\n",
      "  available cpufreq governors: performance, powersave\n",
      "  current policy: frequency should be within 1.20 GHz and 3.20 GHz.\n",
      "                  The governor \"powersave\" may decide which speed to use\n",
      "                  within this range.\n",
      "  current CPU frequency is 1.74 GHz.\n",
      "analyzing CPU 10:\n",
      "  driver: intel_pstate\n",
      "  CPUs which run at the same hardware frequency: 10\n",
      "  CPUs which need to have their frequency coordinated by software: 10\n",
      "  maximum transition latency: 4294.55 ms.\n",
      "  hardware limits: 1.20 GHz - 3.20 GHz\n",
      "  available cpufreq governors: performance, powersave\n",
      "  current policy: frequency should be within 1.20 GHz and 3.20 GHz.\n",
      "                  The governor \"powersave\" may decide which speed to use\n",
      "                  within this range.\n",
      "  current CPU frequency is 1.80 GHz.\n",
      "analyzing CPU 11:\n",
      "  driver: intel_pstate\n",
      "  CPUs which run at the same hardware frequency: 11\n",
      "  CPUs which need to have their frequency coordinated by software: 11\n",
      "  maximum transition latency: 4294.55 ms.\n",
      "  hardware limits: 1.20 GHz - 3.20 GHz\n",
      "  available cpufreq governors: performance, powersave\n",
      "  current policy: frequency should be within 1.20 GHz and 3.20 GHz.\n",
      "                  The governor \"powersave\" may decide which speed to use\n",
      "                  within this range.\n",
      "  current CPU frequency is 2.09 GHz.\n",
      "analyzing CPU 12:\n",
      "  driver: intel_pstate\n",
      "  CPUs which run at the same hardware frequency: 12\n",
      "  CPUs which need to have their frequency coordinated by software: 12\n",
      "  maximum transition latency: 4294.55 ms.\n",
      "  hardware limits: 1.20 GHz - 3.20 GHz\n",
      "  available cpufreq governors: performance, powersave\n",
      "  current policy: frequency should be within 1.20 GHz and 3.20 GHz.\n",
      "                  The governor \"powersave\" may decide which speed to use\n",
      "                  within this range.\n",
      "  current CPU frequency is 1.52 GHz.\n",
      "analyzing CPU 13:\n",
      "  driver: intel_pstate\n",
      "  CPUs which run at the same hardware frequency: 13\n",
      "  CPUs which need to have their frequency coordinated by software: 13\n",
      "  maximum transition latency: 4294.55 ms.\n",
      "  hardware limits: 1.20 GHz - 3.20 GHz\n",
      "  available cpufreq governors: performance, powersave\n",
      "  current policy: frequency should be within 1.20 GHz and 3.20 GHz.\n",
      "                  The governor \"powersave\" may decide which speed to use\n",
      "                  within this range.\n",
      "  current CPU frequency is 1.56 GHz.\n",
      "analyzing CPU 14:\n",
      "  driver: intel_pstate\n",
      "  CPUs which run at the same hardware frequency: 14\n",
      "  CPUs which need to have their frequency coordinated by software: 14\n",
      "  maximum transition latency: 4294.55 ms.\n",
      "  hardware limits: 1.20 GHz - 3.20 GHz\n",
      "  available cpufreq governors: performance, powersave\n",
      "  current policy: frequency should be within 1.20 GHz and 3.20 GHz.\n",
      "                  The governor \"powersave\" may decide which speed to use\n",
      "                  within this range.\n",
      "  current CPU frequency is 1.57 GHz.\n",
      "analyzing CPU 15:\n",
      "  driver: intel_pstate\n",
      "  CPUs which run at the same hardware frequency: 15\n",
      "  CPUs which need to have their frequency coordinated by software: 15\n",
      "  maximum transition latency: 4294.55 ms.\n",
      "  hardware limits: 1.20 GHz - 3.20 GHz\n",
      "  available cpufreq governors: performance, powersave\n",
      "  current policy: frequency should be within 1.20 GHz and 3.20 GHz.\n",
      "                  The governor \"powersave\" may decide which speed to use\n"
     ]
    },
    {
     "name": "stdout",
     "output_type": "stream",
     "text": [
      "                  within this range.\n",
      "  current CPU frequency is 1.80 GHz.\n"
     ]
    }
   ],
   "source": [
    "cpufreq-info"
   ]
  },
  {
   "cell_type": "markdown",
   "metadata": {},
   "source": [
    "**2. Review matrix-multiply code**\n",
    "\n",
    "Pull up the matrix-vector source code in an editor and do a walk-through.\n",
    "\n",
    "  * discuss command-line arguments \n",
    "  * discuss basics of an OpenMP directive\n",
    "  \n",
    "```C++\n",
    "double dot_prod(double *x, double *y, int n) {\n",
    "  double sum = 0.0;\n",
    "  int i;\n",
    "#pragma omp parallel for reduction(+:sum)\n",
    "  for (i = 0; i < n; i++)\n",
    "      sum += x[i] * y[i];\n",
    "  return sum;\n",
    "}\n",
    "\n",
    "void matrix_vector_mult(double **mat, double *vec, double *result,\n",
    "                        long long rows, long long cols) {\n",
    "\n",
    "  /* not parallelelized to ensure runtimes are more meaningful */\n",
    "  int i;\n",
    "  for (i = 0; i < rows; i++)\n",
    "    result[i] = dot_prod(mat[i], vec, cols);\n",
    "}\n",
    "```"
   ]
  },
  {
   "cell_type": "markdown",
   "metadata": {},
   "source": [
    "**3. Build the code on the command-line**"
   ]
  },
  {
   "cell_type": "code",
   "execution_count": 28,
   "metadata": {},
   "outputs": [],
   "source": [
    "gcc -o matvec -fopenmp -O3 matvec.c"
   ]
  },
  {
   "cell_type": "markdown",
   "metadata": {},
   "source": [
    " `matvec` is parallelized with OpenMP. So the `-fopenmp` flag is required. Compiling at `-O3` is\n",
    "   likely to give more predictable performance numbers. \n",
    "   \n",
    "**4. Run and time the sequential and parallel version of the code**\n",
    "\n",
    "Run the code with a single thread (i.e., serial version). The matrix size and number of reps can be\n",
    "adjusted based on the system where the code is running and the amount of time to be devoted to this\n",
    "demo. With 10000 and 20 the sequential version should run for 3-4 seconds. "
   ]
  },
  {
   "cell_type": "code",
   "execution_count": 29,
   "metadata": {},
   "outputs": [
    {
     "name": "stdout",
     "output_type": "stream",
     "text": [
      "Verification: result[0] = 2.61e+09\n",
      "\n",
      "\u001b[0;33mCompute time = 2.034 s\n",
      "\u001b[0m\n",
      "real\t0m3.232s\n",
      "user\t0m2.976s\n",
      "sys\t0m0.256s\n"
     ]
    }
   ],
   "source": [
    "time ./matvec 10000 20 1"
   ]
  },
  {
   "cell_type": "code",
   "execution_count": 30,
   "metadata": {},
   "outputs": [
    {
     "name": "stdout",
     "output_type": "stream",
     "text": [
      "Verification: result[0] = 2.61e+09\n",
      "\n",
      "\u001b[0;33mCompute time = 1.333 s\n",
      "\u001b[0m\n",
      "real\t0m2.512s\n",
      "user\t0m3.560s\n",
      "sys\t0m0.284s\n"
     ]
    }
   ],
   "source": [
    "time ./matvec 10000 20 2"
   ]
  },
  {
   "cell_type": "markdown",
   "metadata": {},
   "source": [
    "Discuss the performance improvements with parallelization. Time permitting, the code can be run with\n",
    "2, 4, ... N threads (where N = number of processing cores on the system) to show the scalability of\n",
    "the code and discuss Amdahl's Law. \n",
    "\n",
    "**4. Discuss mapping of threads to processors**\n",
    "\n",
    "   Introduce the `taskset` utility and discuss how it can be used to map threads to processing cores."
   ]
  },
  {
   "cell_type": "code",
   "execution_count": 31,
   "metadata": {},
   "outputs": [
    {
     "name": "stdout",
     "output_type": "stream",
     "text": [
      "Verification: result[0] = 2.61e+09\n",
      "\n",
      "\u001b[0;33mCompute time = 7.708 s\n",
      "\u001b[0m"
     ]
    }
   ],
   "source": [
    "## run program on core 0 with 4 threads \n",
    "taskset -c 0 ./matvec 10000 20 4"
   ]
  },
  {
   "cell_type": "code",
   "execution_count": 32,
   "metadata": {},
   "outputs": [
    {
     "name": "stdout",
     "output_type": "stream",
     "text": [
      "Verification: result[0] = 2.61e+09\n",
      "\n",
      "\u001b[0;33mCompute time = 4.812 s\n",
      "\u001b[0m"
     ]
    }
   ],
   "source": [
    "## run program on 2 cores (2 and 5) with 4 threads \n",
    "taskset -c 2,5 ./matvec 10000 20 4"
   ]
  },
  {
   "cell_type": "markdown",
   "metadata": {},
   "source": [
    "**5. Run code on _little_ cores**\n",
    "  \n",
    "  Run the code on the cores set up as little cores and measure execution time."
   ]
  },
  {
   "cell_type": "code",
   "execution_count": 33,
   "metadata": {},
   "outputs": [
    {
     "name": "stdout",
     "output_type": "stream",
     "text": [
      "Verification: result[0] = 2.61e+09\n",
      "\n",
      "\u001b[0;33mCompute time = 1.224 s\n",
      "\u001b[0m"
     ]
    }
   ],
   "source": [
    "taskset -c 0-7 ./matvec 10000 20 8"
   ]
  },
  {
   "cell_type": "markdown",
   "metadata": {},
   "source": [
    "Re-run the code and measure detailed performance metrics with `perf`"
   ]
  },
  {
   "cell_type": "code",
   "execution_count": 34,
   "metadata": {},
   "outputs": [
    {
     "name": "stdout",
     "output_type": "stream",
     "text": [
      "Verification: result[0] = 2.61e+09\n",
      "\n",
      "\u001b[0;33mCompute time = 1.204 s\n",
      "\u001b[0m\n",
      " Performance counter stats for 'taskset -c 0-7 ./matvec 10000 20 8':\n",
      "\n",
      "      11661.482175      task-clock (msec)         #    3.604 CPUs utilized          \n",
      "                10      context-switches          #    0.001 K/sec                  \n",
      "                 0      cpu-migrations            #    0.000 K/sec                  \n",
      "           195,554      page-faults               #    0.017 M/sec                  \n",
      "    21,657,946,400      cycles                    #    1.857 GHz                    \n",
      "    18,678,511,328      instructions              #    0.86  insn per cycle         \n",
      "     3,617,563,856      branches                  #  310.215 M/sec                  \n",
      "        10,779,682      branch-misses             #    0.30% of all branches        \n",
      "\n",
      "       3.235513519 seconds time elapsed\n",
      "\n"
     ]
    }
   ],
   "source": [
    "perf stat taskset -c 0-7 ./matvec 10000 20 8"
   ]
  },
  {
   "cell_type": "markdown",
   "metadata": {},
   "source": [
    "Re-run the code and measure power and energy"
   ]
  },
  {
   "cell_type": "code",
   "execution_count": 35,
   "metadata": {},
   "outputs": [
    {
     "name": "stdout",
     "output_type": "stream",
     "text": [
      "--------------------------------------------------------------------------------\n",
      "CPU name:\tIntel(R) Xeon(R) CPU E5-2630 v3 @ 2.40GHz\n",
      "CPU type:\tIntel Xeon Haswell EN/EP/EX processor\n",
      "CPU clock:\t2.39 GHz\n",
      "--------------------------------------------------------------------------------\n",
      "Verification: result[0] = 2.61e+09\n",
      "\n",
      "\u001b[0;33mCompute time = 1.239 s\n",
      "\u001b[0m--------------------------------------------------------------------------------\n",
      "Group 1: ENERGY\n",
      "+-----------------------+---------+------------+------------+------------+------------+------------+------------+------------+------------+\n",
      "|         Event         | Counter |   Core 0   |   Core 1   |   Core 2   |   Core 3   |   Core 4   |   Core 5   |   Core 6   |   Core 7   |\n",
      "+-----------------------+---------+------------+------------+------------+------------+------------+------------+------------+------------+\n",
      "|   INSTR_RETIRED_ANY   |  FIXC0  | 1456503798 | 7731626633 | 1454744282 | 1475625371 | 1453539232 | 1480270729 | 1411951656 | 1412807885 |\n",
      "| CPU_CLK_UNHALTED_CORE |  FIXC1  | 2201306752 | 5064828621 | 2198536722 | 2209521995 | 2190093543 | 2210086480 | 2190299135 | 2189738590 |\n",
      "|  CPU_CLK_UNHALTED_REF |  FIXC2  | 2935130328 | 6753098616 | 2931367752 | 2946033264 | 2920154664 | 2946788928 | 2920444488 | 2919673104 |\n",
      "|       TEMP_CORE       |   TMP0  |         33 |         37 |         34 |         36 |         34 |         35 |         33 |         38 |\n",
      "|     PWR_PKG_ENERGY    |   PWR0  |    73.7836 |          0 |          0 |          0 |          0 |          0 |          0 |          0 |\n",
      "|     PWR_PP0_ENERGY    |   PWR1  |          0 |          0 |          0 |          0 |          0 |          0 |          0 |          0 |\n",
      "|    PWR_DRAM_ENERGY    |   PWR3  |     2.5638 |          0 |          0 |          0 |          0 |          0 |          0 |          0 |\n",
      "+-----------------------+---------+------------+------------+------------+------------+------------+------------+------------+------------+\n",
      "\n",
      "+----------------------------+---------+-------------+------------+------------+--------------+\n",
      "|            Event           | Counter |     Sum     |     Min    |     Max    |      Avg     |\n",
      "+----------------------------+---------+-------------+------------+------------+--------------+\n",
      "|   INSTR_RETIRED_ANY STAT   |  FIXC0  | 17877069586 | 1411951656 | 7731626633 | 2.234634e+09 |\n",
      "| CPU_CLK_UNHALTED_CORE STAT |  FIXC1  | 20454411838 | 2189738590 | 5064828621 | 2.556801e+09 |\n",
      "|  CPU_CLK_UNHALTED_REF STAT |  FIXC2  | 27272691144 | 2919673104 | 6753098616 |   3409086393 |\n",
      "|       TEMP_CORE STAT       |   TMP0  |         280 |         33 |         38 |           35 |\n",
      "|     PWR_PKG_ENERGY STAT    |   PWR0  |     73.7836 |          0 |    73.7836 |       9.2230 |\n",
      "|     PWR_PP0_ENERGY STAT    |   PWR1  |           0 |          0 |          0 |            0 |\n",
      "|    PWR_DRAM_ENERGY STAT    |   PWR3  |      2.5638 |          0 |     2.5638 |       0.3205 |\n",
      "+----------------------------+---------+-------------+------------+------------+--------------+\n",
      "\n",
      "+----------------------+-----------+-----------+-----------+-----------+-----------+-----------+-----------+-----------+\n",
      "|        Metric        |   Core 0  |   Core 1  |   Core 2  |   Core 3  |   Core 4  |   Core 5  |   Core 6  |   Core 7  |\n",
      "+----------------------+-----------+-----------+-----------+-----------+-----------+-----------+-----------+-----------+\n",
      "|  Runtime (RDTSC) [s] |    3.2795 |    3.2795 |    3.2795 |    3.2795 |    3.2795 |    3.2795 |    3.2795 |    3.2795 |\n",
      "| Runtime unhalted [s] |    0.9194 |    2.1154 |    0.9182 |    0.9228 |    0.9147 |    0.9231 |    0.9148 |    0.9146 |\n",
      "|      Clock [MHz]     | 1795.7064 | 1795.7415 | 1795.7488 | 1795.7375 | 1795.7215 | 1795.7356 | 1795.7118 | 1795.7266 |\n",
      "|          CPI         |    1.5114 |    0.6551 |    1.5113 |    1.4973 |    1.5067 |    1.4930 |    1.5513 |    1.5499 |\n",
      "|    Temperature [C]   |        33 |        37 |        34 |        36 |        34 |        35 |        33 |        38 |\n",
      "|      Energy [J]      |   73.7836 |         0 |         0 |         0 |         0 |         0 |         0 |         0 |\n",
      "|       Power [W]      |   22.4986 |         0 |         0 |         0 |         0 |         0 |         0 |         0 |\n",
      "|    Energy PP0 [J]    |         0 |         0 |         0 |         0 |         0 |         0 |         0 |         0 |\n",
      "|     Power PP0 [W]    |         0 |         0 |         0 |         0 |         0 |         0 |         0 |         0 |\n",
      "|    Energy DRAM [J]   |    2.5638 |         0 |         0 |         0 |         0 |         0 |         0 |         0 |\n",
      "|    Power DRAM [W]    |    0.7818 |         0 |         0 |         0 |         0 |         0 |         0 |         0 |\n",
      "+----------------------+-----------+-----------+-----------+-----------+-----------+-----------+-----------+-----------+\n",
      "\n",
      "+---------------------------+------------+-----------+-----------+-----------+\n",
      "|           Metric          |     Sum    |    Min    |    Max    |    Avg    |\n",
      "+---------------------------+------------+-----------+-----------+-----------+\n",
      "|  Runtime (RDTSC) [s] STAT |    26.2360 |    3.2795 |    3.2795 |    3.2795 |\n",
      "| Runtime unhalted [s] STAT |     8.5430 |    0.9146 |    2.1154 |    1.0679 |\n",
      "|      Clock [MHz] STAT     | 14365.8297 | 1795.7064 | 1795.7488 | 1795.7287 |\n",
      "|          CPI STAT         |    11.2760 |    0.6551 |    1.5513 |    1.4095 |\n",
      "|    Temperature [C] STAT   |        280 |        33 |        38 |        35 |\n",
      "|      Energy [J] STAT      |    73.7836 |         0 |   73.7836 |    9.2230 |\n",
      "|       Power [W] STAT      |    22.4986 |         0 |   22.4986 |    2.8123 |\n",
      "|    Energy PP0 [J] STAT    |          0 |         0 |         0 |         0 |\n",
      "|     Power PP0 [W] STAT    |          0 |         0 |         0 |         0 |\n",
      "|    Energy DRAM [J] STAT   |     2.5638 |         0 |    2.5638 |    0.3205 |\n",
      "|    Power DRAM [W] STAT    |     0.7818 |         0 |    0.7818 |    0.0977 |\n",
      "+---------------------------+------------+-----------+-----------+-----------+\n",
      "\n"
     ]
    }
   ],
   "source": [
    "likwid-perfctr -c 0-7 -g ENERGY taskset -c 0-7 ./matvec 10000 20 8"
   ]
  },
  {
   "cell_type": "markdown",
   "metadata": {},
   "source": [
    "**6. Run code on _big_ cores**\n",
    "\n",
    "   Run the code on the cores set up as little cores and measure execution time."
   ]
  },
  {
   "cell_type": "code",
   "execution_count": 37,
   "metadata": {},
   "outputs": [
    {
     "name": "stdout",
     "output_type": "stream",
     "text": [
      "Verification: result[0] = 2.61e+09\n",
      "\n",
      "\u001b[0;33mCompute time = 1.021 s\n",
      "\u001b[0m\n",
      "real\t0m2.202s\n",
      "user\t0m9.076s\n",
      "sys\t0m0.272s\n"
     ]
    }
   ],
   "source": [
    "time taskset -c 8-15 ./matvec 10000 20 8"
   ]
  },
  {
   "cell_type": "markdown",
   "metadata": {},
   "source": [
    "Re-run the code and measure power and energy."
   ]
  },
  {
   "cell_type": "code",
   "execution_count": 38,
   "metadata": {
    "scrolled": true
   },
   "outputs": [
    {
     "name": "stdout",
     "output_type": "stream",
     "text": [
      "--------------------------------------------------------------------------------\n",
      "CPU name:\tIntel(R) Xeon(R) CPU E5-2630 v3 @ 2.40GHz\n",
      "CPU type:\tIntel Xeon Haswell EN/EP/EX processor\n",
      "CPU clock:\t2.39 GHz\n",
      "--------------------------------------------------------------------------------\n",
      "Verification: result[0] = 2.61e+09\n",
      "\n",
      "\u001b[0;33mCompute time = 1.030 s\n",
      "\u001b[0m--------------------------------------------------------------------------------\n",
      "Group 1: ENERGY\n",
      "+-----------------------+---------+------------+------------+------------+------------+------------+------------+------------+------------+\n",
      "|         Event         | Counter |   Core 8   |   Core 9   |   Core 10  |   Core 11  |   Core 12  |   Core 13  |   Core 14  |   Core 15  |\n",
      "+-----------------------+---------+------------+------------+------------+------------+------------+------------+------------+------------+\n",
      "|   INSTR_RETIRED_ANY   |  FIXC0  | 7805093436 | 1445053775 | 1466861291 | 1506870869 | 1491563097 | 1472260593 | 1431446313 | 1455594017 |\n",
      "| CPU_CLK_UNHALTED_CORE |  FIXC1  | 6270514204 | 2587618577 | 2602547026 | 2618995663 | 2607439542 | 2605926678 | 2569041723 | 2599807179 |\n",
      "|  CPU_CLK_UNHALTED_REF |  FIXC2  | 5220671112 | 2429532264 | 2445095904 | 2460539112 | 2449226712 | 2446583256 | 2411578704 | 2441022384 |\n",
      "|       TEMP_CORE       |   TMP0  |         41 |         38 |         36 |         36 |         35 |         36 |         35 |         39 |\n",
      "|     PWR_PKG_ENERGY    |   PWR0  |    86.8965 |          0 |          0 |          0 |          0 |          0 |          0 |          0 |\n",
      "|     PWR_PP0_ENERGY    |   PWR1  |          0 |          0 |          0 |          0 |          0 |          0 |          0 |          0 |\n",
      "|    PWR_DRAM_ENERGY    |   PWR3  |     2.9750 |          0 |          0 |          0 |          0 |          0 |          0 |          0 |\n",
      "+-----------------------+---------+------------+------------+------------+------------+------------+------------+------------+------------+\n",
      "\n",
      "+----------------------------+---------+-------------+------------+------------+--------------+\n",
      "|            Event           | Counter |     Sum     |     Min    |     Max    |      Avg     |\n",
      "+----------------------------+---------+-------------+------------+------------+--------------+\n",
      "|   INSTR_RETIRED_ANY STAT   |  FIXC0  | 18074743391 | 1431446313 | 7805093436 | 2.259343e+09 |\n",
      "| CPU_CLK_UNHALTED_CORE STAT |  FIXC1  | 24461890592 | 2569041723 | 6270514204 |   3057736324 |\n",
      "|  CPU_CLK_UNHALTED_REF STAT |  FIXC2  | 22304249448 | 2411578704 | 5220671112 |   2788031181 |\n",
      "|       TEMP_CORE STAT       |   TMP0  |         296 |         35 |         41 |           37 |\n",
      "|     PWR_PKG_ENERGY STAT    |   PWR0  |     86.8965 |          0 |    86.8965 |      10.8621 |\n",
      "|     PWR_PP0_ENERGY STAT    |   PWR1  |           0 |          0 |          0 |            0 |\n",
      "|    PWR_DRAM_ENERGY STAT    |   PWR3  |      2.9750 |          0 |     2.9750 |       0.3719 |\n",
      "+----------------------------+---------+-------------+------------+------------+--------------+\n",
      "\n",
      "+----------------------+-----------+-----------+-----------+-----------+-----------+-----------+-----------+-----------+\n",
      "|        Metric        |   Core 8  |   Core 9  |  Core 10  |  Core 11  |  Core 12  |  Core 13  |  Core 14  |  Core 15  |\n",
      "+----------------------+-----------+-----------+-----------+-----------+-----------+-----------+-----------+-----------+\n",
      "|  Runtime (RDTSC) [s] |    2.4772 |    2.4772 |    2.4772 |    2.4772 |    2.4772 |    2.4772 |    2.4772 |    2.4772 |\n",
      "| Runtime unhalted [s] |    2.6188 |    1.0807 |    1.0869 |    1.0938 |    1.0890 |    1.0883 |    1.0729 |    1.0858 |\n",
      "|      Clock [MHz]     | 2875.9595 | 2550.2545 | 2548.6408 | 2548.6514 | 2549.1254 | 2550.3990 | 2550.7956 | 2550.2063 |\n",
      "|          CPI         |    0.8034 |    1.7907 |    1.7742 |    1.7380 |    1.7481 |    1.7700 |    1.7947 |    1.7861 |\n",
      "|    Temperature [C]   |        41 |        38 |        36 |        36 |        35 |        36 |        35 |        39 |\n",
      "|      Energy [J]      |   86.8965 |         0 |         0 |         0 |         0 |         0 |         0 |         0 |\n",
      "|       Power [W]      |   35.0783 |         0 |         0 |         0 |         0 |         0 |         0 |         0 |\n",
      "|    Energy PP0 [J]    |         0 |         0 |         0 |         0 |         0 |         0 |         0 |         0 |\n",
      "|     Power PP0 [W]    |         0 |         0 |         0 |         0 |         0 |         0 |         0 |         0 |\n",
      "|    Energy DRAM [J]   |    2.9750 |         0 |         0 |         0 |         0 |         0 |         0 |         0 |\n",
      "|    Power DRAM [W]    |    1.2010 |         0 |         0 |         0 |         0 |         0 |         0 |         0 |\n",
      "+----------------------+-----------+-----------+-----------+-----------+-----------+-----------+-----------+-----------+\n",
      "\n",
      "+---------------------------+------------+-----------+-----------+-----------+\n",
      "|           Metric          |     Sum    |    Min    |    Max    |    Avg    |\n",
      "+---------------------------+------------+-----------+-----------+-----------+\n",
      "|  Runtime (RDTSC) [s] STAT |    19.8176 |    2.4772 |    2.4772 |    2.4772 |\n",
      "| Runtime unhalted [s] STAT |    10.2162 |    1.0729 |    2.6188 |    1.2770 |\n",
      "|      Clock [MHz] STAT     | 20724.0325 | 2548.6408 | 2875.9595 | 2590.5041 |\n",
      "|          CPI STAT         |    13.2052 |    0.8034 |    1.7947 |    1.6506 |\n",
      "|    Temperature [C] STAT   |        296 |        35 |        41 |        37 |\n",
      "|      Energy [J] STAT      |    86.8965 |         0 |   86.8965 |   10.8621 |\n",
      "|       Power [W] STAT      |    35.0783 |         0 |   35.0783 |    4.3848 |\n",
      "|    Energy PP0 [J] STAT    |          0 |         0 |         0 |         0 |\n",
      "|     Power PP0 [W] STAT    |          0 |         0 |         0 |         0 |\n",
      "|    Energy DRAM [J] STAT   |     2.9750 |         0 |    2.9750 |    0.3719 |\n",
      "|    Power DRAM [W] STAT    |     1.2010 |         0 |    1.2010 |    0.1501 |\n",
      "+---------------------------+------------+-----------+-----------+-----------+\n",
      "\n"
     ]
    }
   ],
   "source": [
    "likwid-perfctr -c 8-15 -g ENERGY taskset -c 8-15 ./matvec 10000 20 8"
   ]
  },
  {
   "cell_type": "markdown",
   "metadata": {},
   "source": [
    "**7. Discuss the implications of the results** \n",
    "\n",
    "   * little cores will consume less power than big cores\n",
    "   * little cores will have lower performance than big cores\n",
    "   * threads must be mapped to cores based on the characteristic of the application and the target\n",
    "     objective"
   ]
  }
 ],
 "metadata": {
  "kernelspec": {
   "display_name": "Bash",
   "language": "bash",
   "name": "bash"
  },
  "language_info": {
   "codemirror_mode": "shell",
   "file_extension": ".sh",
   "mimetype": "text/x-sh",
   "name": "bash"
  }
 },
 "nbformat": 4,
 "nbformat_minor": 4
}
