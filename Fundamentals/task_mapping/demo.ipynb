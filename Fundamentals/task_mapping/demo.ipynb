{
 "cells": [
  {
   "cell_type": "markdown",
   "metadata": {
    "id": "4oC8d9i-1a60"
   },
   "source": [
    "## [Demo] Task Mapping on a DVFS-enabled Heterogeneous System\n",
    "[A2] Task Mapping on Soft Heterogeneous Systems   \n",
    "Apan Qasem [\\<apan@txstate.edu\\>](apan@txstate.edu)\n",
    "\n",
    "\n",
    "### Description \n",
    "\n",
    "Demonstrate the performance and energy impact of operational frequency on heterogeneous multicore systems. \n",
    "\n",
    "### Software and Tools\n",
    "\n",
    "The following Linux tools are used in this demo.\n",
    "\n",
    "  * `cpufrequtils`\n",
    "  * `cpupower`\n",
    "  * `perf`\n",
    "  * `energy`\n",
    "  * `taskset`\n",
    "  * `likwid`\n",
    "  * `gcc` (OpenMP support is already built-in the standard distribution for ubuntu)\n",
    "\n",
    "The demo also includes a simple C++/OpenMP code that performance matrix-vector multiplication in\n",
    "parallel. \n"
   ]
  },
  {
   "cell_type": "markdown",
   "metadata": {
    "id": "dzhbd6eb1a65"
   },
   "source": [
    "### Environment\n",
    "\n",
    "Below are instructions for setting a homogenous multicore system as a DVFS-supported heterogeneous platform. \n",
    "These steps should be carried out prior to class time. We created a [script](./code/build_hc_env.sh)\n",
    "to carry out these tasks automatically. Note the below tasks require root access. The installation commands are specific to Ubuntu -- for other platforms, you may need to adapt the commands to the suitable platform specific ones. Follow the\n",
    "guidelines in the script if root access is not available. \n",
    "\n",
    "**0. Download sample codes and utility scripts from the ToUCH repo**\n",
    "\n",
    "An OpenMP parallel implementation of matrix-vector multiplication is used as a running example for\n",
    "this demo. There are three utility scripts for tweaking the frequencies.  \n",
    "\n",
    "```bash \n",
    "git clone https://github.com/TeachingUndergradsCHC/modules.git\n",
    "```\n",
    " \n",
    "**1. Install necessary packages and their dependencies**\n",
    "\n",
    "Install `cpufrequtils`"
   ]
  },
  {
   "cell_type": "code",
   "execution_count": 22,
   "metadata": {
    "id": "AtCAS3g51a66"
   },
   "outputs": [
    {
     "name": "stdout",
     "output_type": "stream",
     "text": [
      "cpufrequtils is already the newest version (008-1build1).\n",
      "0 upgraded, 0 newly installed, 0 to remove and 59 not upgraded.\n"
     ]
    }
   ],
   "source": [
    "sudo apt install -y -qq cpufrequtils"
   ]
  },
  {
   "cell_type": "markdown",
   "metadata": {
    "id": "zlb5qeMH1a67"
   },
   "source": [
    "Install `perf`, `taskset` and `cpupower` if they are not alreay installed. These tools are available\n",
    "in the common tools package. The second package is specific to the linux kernel that you have -- if the kernel-specific version is not available from the repositories, you may need to download the kernel source and build this tool yourself. "
   ]
  },
  {
   "cell_type": "code",
   "execution_count": 23,
   "metadata": {
    "id": "Jp0Nb7Ig1a67"
   },
   "outputs": [
    {
     "name": "stdout",
     "output_type": "stream",
     "text": [
      "linux-tools-common is already the newest version (4.15.0-151.157).\n",
      "0 upgraded, 0 newly installed, 0 to remove and 59 not upgraded.\n"
     ]
    }
   ],
   "source": [
    "sudo apt install -y -qq linux-tools-common"
   ]
  },
  {
   "cell_type": "code",
   "execution_count": 24,
   "metadata": {
    "id": "QP42nXIb1a68"
   },
   "outputs": [
    {
     "name": "stdout",
     "output_type": "stream",
     "text": [
      "linux-tools-5.4.0-77-generic is already the newest version (5.4.0-77.86~18.04.1).\n",
      "0 upgraded, 0 newly installed, 0 to remove and 59 not upgraded.\n"
     ]
    }
   ],
   "source": [
    "sudo apt install -y -qq linux-tools-`uname -r`"
   ]
  },
  {
   "cell_type": "markdown",
   "metadata": {
    "id": "In4jU1s71a68"
   },
   "source": [
    "**2. Check CPU clock frequencies**\n",
    "\n",
    "Clock frequencies of individual cores can be inspected with various utilites. "
   ]
  },
  {
   "cell_type": "code",
   "execution_count": 25,
   "metadata": {
    "id": "Gly6rz-H1a68"
   },
   "outputs": [
    {
     "name": "stdout",
     "output_type": "stream",
     "text": [
      "cpufrequtils 008: cpufreq-info (C) Dominik Brodowski 2004-2009\n",
      "Report errors and bugs to cpufreq@vger.kernel.org, please.\n",
      "analyzing CPU 0:\n",
      "  driver: intel_pstate\n",
      "  CPUs which run at the same hardware frequency: 0\n",
      "  CPUs which need to have their frequency coordinated by software: 0\n",
      "  maximum transition latency: 4294.55 ms.\n",
      "  hardware limits: 800 MHz - 3.60 GHz\n",
      "  available cpufreq governors: performance, powersave\n",
      "  current policy: frequency should be within 800 MHz and 3.60 GHz.\n",
      "                  The governor \"powersave\" may decide which speed to use\n",
      "                  within this range.\n",
      "  current CPU frequency is 1.33 GHz.\n",
      "analyzing CPU 1:\n",
      "  driver: intel_pstate\n",
      "  CPUs which run at the same hardware frequency: 1\n",
      "  CPUs which need to have their frequency coordinated by software: 1\n",
      "  maximum transition latency: 4294.55 ms.\n",
      "  hardware limits: 800 MHz - 3.60 GHz\n",
      "  available cpufreq governors: performance, powersave\n",
      "  current policy: frequency should be within 800 MHz and 3.60 GHz.\n",
      "                  The governor \"powersave\" may decide which speed to use\n",
      "                  within this range.\n",
      "  current CPU frequency is 2.09 GHz.\n",
      "analyzing CPU 2:\n",
      "  driver: intel_pstate\n",
      "  CPUs which run at the same hardware frequency: 2\n",
      "  CPUs which need to have their frequency coordinated by software: 2\n",
      "  maximum transition latency: 4294.55 ms.\n",
      "  hardware limits: 800 MHz - 3.60 GHz\n",
      "  available cpufreq governors: performance, powersave\n",
      "  current policy: frequency should be within 800 MHz and 3.60 GHz.\n",
      "                  The governor \"powersave\" may decide which speed to use\n",
      "                  within this range.\n",
      "  current CPU frequency is 3.02 GHz.\n",
      "analyzing CPU 3:\n",
      "  driver: intel_pstate\n",
      "  CPUs which run at the same hardware frequency: 3\n",
      "  CPUs which need to have their frequency coordinated by software: 3\n",
      "  maximum transition latency: 4294.55 ms.\n",
      "  hardware limits: 800 MHz - 3.60 GHz\n",
      "  available cpufreq governors: performance, powersave\n",
      "  current policy: frequency should be within 800 MHz and 3.60 GHz.\n",
      "                  The governor \"powersave\" may decide which speed to use\n",
      "                  within this range.\n",
      "  current CPU frequency is 1.90 GHz.\n"
     ]
    }
   ],
   "source": [
    "cpufreq-info"
   ]
  },
  {
   "cell_type": "markdown",
   "metadata": {
    "id": "zfnhRAf41a69"
   },
   "source": [
    "The ToUCH repository has a script that provides cleaner output. This script might be more suitable for the in-class demo. "
   ]
  },
  {
   "cell_type": "code",
   "execution_count": 26,
   "metadata": {
    "id": "Jke7z5pE1a69"
   },
   "outputs": [
    {
     "name": "stdout",
     "output_type": "stream",
     "text": [
      "bash: cd: code: No such file or directory\n"
     ]
    },
    {
     "ename": "",
     "evalue": "1",
     "output_type": "error",
     "traceback": []
    }
   ],
   "source": [
    "## change to the code directory and setup the path to the mapping scripts\n",
    "cd code"
   ]
  },
  {
   "cell_type": "code",
   "execution_count": 27,
   "metadata": {
    "id": "-kLMoE451a69"
   },
   "outputs": [
    {
     "name": "stdout",
     "output_type": "stream",
     "text": [
      "CPU0:\t800 MHz - 360 GHz\n",
      "CPU1:\t800 MHz - 360 GHz\n",
      "CPU2:\t800 MHz - 360 GHz\n",
      "CPU3:\t800 MHz - 360 GHz\n"
     ]
    }
   ],
   "source": [
    "./mapping_scripts/check_clk_speed.sh"
   ]
  },
  {
   "cell_type": "markdown",
   "metadata": {
    "id": "Vf__5d1Z1a69"
   },
   "source": [
    "**3. Lower frequencies for a subset of cores**\n",
    "\n",
    "We will simulate a less powerful (i.e., _little_) core by lowering its frequency to the lowest allowed\n",
    "value. To lower the frequency of an individual we can use the `cpupower` utility. We need to root privileges to change the clock frequency (obviously!). The commands below lowers the frequency of core 0 to 1.80 GHz. "
   ]
  },
  {
   "cell_type": "code",
   "execution_count": 28,
   "metadata": {
    "id": "aAWh4r3k1a6-"
   },
   "outputs": [
    {
     "name": "stdout",
     "output_type": "stream",
     "text": [
      "Setting cpu: 0\n",
      "Setting cpu: 0\n"
     ]
    }
   ],
   "source": [
    "sudo cpupower -c 0 frequency-set -d 1800000\n",
    "sudo cpupower -c 0 frequency-set -u 1800000"
   ]
  },
  {
   "cell_type": "markdown",
   "metadata": {
    "id": "ezGpsIO21a6-"
   },
   "source": [
    "Verify if the change has taken effect"
   ]
  },
  {
   "cell_type": "code",
   "execution_count": 29,
   "metadata": {
    "id": "kKqug70_1a6-"
   },
   "outputs": [
    {
     "name": "stdout",
     "output_type": "stream",
     "text": [
      "CPU0:\t180 GHz - 180 GHz\n",
      "CPU1:\t800 MHz - 360 GHz\n",
      "CPU2:\t800 MHz - 360 GHz\n",
      "CPU3:\t800 MHz - 360 GHz\n"
     ]
    }
   ],
   "source": [
    "./mapping_scripts/check_clk_speed.sh"
   ]
  },
  {
   "cell_type": "markdown",
   "metadata": {
    "id": "3V8zwTih1a6-"
   },
   "source": [
    "The syntax for the `cpupower` utility is a little cumbersome when we are trying to fix the frequency to a specific value. The `set_clk_speed.sh` script in the ToUCH repo is a wrapper around `cpupower` that provides a cleaner interface. "
   ]
  },
  {
   "cell_type": "code",
   "execution_count": 15,
   "metadata": {
    "id": "I3QlBWAD1a6_"
   },
   "outputs": [
    {
     "name": "stdout",
     "output_type": "stream",
     "text": [
      "Setting cpu: 0\n",
      "Setting cpu: 1\n",
      "Setting cpu: 2\n",
      "Setting cpu: 3\n",
      "Setting cpu: 0\n",
      "Setting cpu: 1\n",
      "Setting cpu: 2\n",
      "Setting cpu: 3\n"
     ]
    }
   ],
   "source": [
    "sudo mapping_scripts/set_clk_speed.sh 0-3 1.8"
   ]
  },
  {
   "cell_type": "code",
   "execution_count": 17,
   "metadata": {
    "id": "v36CK2RM1a6_"
   },
   "outputs": [
    {
     "name": "stdout",
     "output_type": "stream",
     "text": [
      "CPU0:\t180 GHz - 180 GHz\n",
      "CPU1:\t180 GHz - 180 GHz\n",
      "CPU2:\t180 GHz - 180 GHz\n",
      "CPU3:\t180 GHz - 180 GHz\n"
     ]
    }
   ],
   "source": [
    "./mapping_scripts/check_clk_speed.sh"
   ]
  },
  {
   "cell_type": "markdown",
   "metadata": {
    "id": "ndqvZ9fJ1a6_"
   },
   "source": [
    "There is another script `reset_clk_speed.sh` that resets the frequencies to their default values. "
   ]
  },
  {
   "cell_type": "code",
   "execution_count": 30,
   "metadata": {
    "id": "uJFy02Pw1a6_"
   },
   "outputs": [
    {
     "name": "stdout",
     "output_type": "stream",
     "text": [
      "Setting cpu: 0\n",
      "Setting cpu: 1\n",
      "Setting cpu: 2\n",
      "Setting cpu: 3\n"
     ]
    }
   ],
   "source": [
    "sudo ./mapping_scripts/reset_clk_speed.sh 0-3"
   ]
  },
  {
   "cell_type": "code",
   "execution_count": 31,
   "metadata": {
    "id": "TizpKWHS1a6_"
   },
   "outputs": [
    {
     "name": "stdout",
     "output_type": "stream",
     "text": [
      "CPU0:\t800 MHz - 360 GHz\n",
      "CPU1:\t800 MHz - 360 GHz\n",
      "CPU2:\t800 MHz - 360 GHz\n",
      "CPU3:\t800 MHz - 360 GHz\n"
     ]
    }
   ],
   "source": [
    "check_clk_speed.sh"
   ]
  },
  {
   "cell_type": "markdown",
   "metadata": {
    "id": "bl4W_MGR1a7A"
   },
   "source": [
    "To configure this multi-core system as \"big-LITTLE\", we will lower the frequencies for cores Lstart-Lend for now. These cores will serve as the _little_ cores. Later we will setup other cores as the _big_ cores. Other more complex configurations can be easily set up if the instructor chooses to do a more involved (e.g., in a CS2 course rather CS1)"
   ]
  },
  {
   "cell_type": "code",
   "execution_count": 32,
   "metadata": {},
   "outputs": [],
   "source": [
    "# the CPU number for little CPUs\n",
    "export Lstart=0\n",
    "export Lend=3"
   ]
  },
  {
   "cell_type": "code",
   "execution_count": 33,
   "metadata": {
    "id": "6swOK_Hk1a7A"
   },
   "outputs": [
    {
     "name": "stdout",
     "output_type": "stream",
     "text": [
      "Setting cpu: 0\n",
      "Setting cpu: 1\n",
      "Setting cpu: 2\n",
      "Setting cpu: 3\n",
      "Setting cpu: 0\n",
      "Setting cpu: 1\n",
      "Setting cpu: 2\n",
      "Setting cpu: 3\n"
     ]
    }
   ],
   "source": [
    "# setup the speed for the little CPUs\n",
    "sudo ./mapping_scripts/set_clk_speed.sh $Lstart-$Lend 1.8"
   ]
  },
  {
   "cell_type": "code",
   "execution_count": 36,
   "metadata": {
    "id": "EVkQruQG1a7A"
   },
   "outputs": [
    {
     "name": "stdout",
     "output_type": "stream",
     "text": [
      "CPU0:\t180 GHz - 180 GHz\n",
      "CPU1:\t180 GHz - 180 GHz\n",
      "CPU2:\t180 GHz - 180 GHz\n",
      "CPU3:\t180 GHz - 180 GHz\n"
     ]
    }
   ],
   "source": [
    "./mapping_scripts/check_clk_speed.sh"
   ]
  },
  {
   "cell_type": "markdown",
   "metadata": {
    "id": "2ccJWA8x1a7A"
   },
   "source": [
    "### Instructions \n",
    "\n",
    "The main steps for the in-class demo are outlined below\n",
    "\n",
    "**1. Discuss heterogeneous system.**\n",
    "\n",
    "Log into system that has been set up to simulate a heterogeneous system (or use this notebook) and review it's attributes."
   ]
  },
  {
   "cell_type": "code",
   "execution_count": 35,
   "metadata": {
    "id": "kiN0q9GW1a7B"
   },
   "outputs": [
    {
     "name": "stdout",
     "output_type": "stream",
     "text": [
      "cpufrequtils 008: cpufreq-info (C) Dominik Brodowski 2004-2009\n",
      "Report errors and bugs to cpufreq@vger.kernel.org, please.\n",
      "analyzing CPU 0:\n",
      "  driver: intel_pstate\n",
      "  CPUs which run at the same hardware frequency: 0\n",
      "  CPUs which need to have their frequency coordinated by software: 0\n",
      "  maximum transition latency: 4294.55 ms.\n",
      "  hardware limits: 800 MHz - 3.60 GHz\n",
      "  available cpufreq governors: performance, powersave\n",
      "  current policy: frequency should be within 1.80 GHz and 1.80 GHz.\n",
      "                  The governor \"powersave\" may decide which speed to use\n",
      "                  within this range.\n",
      "  current CPU frequency is 1.80 GHz.\n",
      "analyzing CPU 1:\n",
      "  driver: intel_pstate\n",
      "  CPUs which run at the same hardware frequency: 1\n",
      "  CPUs which need to have their frequency coordinated by software: 1\n",
      "  maximum transition latency: 4294.55 ms.\n",
      "  hardware limits: 800 MHz - 3.60 GHz\n",
      "  available cpufreq governors: performance, powersave\n",
      "  current policy: frequency should be within 1.80 GHz and 1.80 GHz.\n",
      "                  The governor \"powersave\" may decide which speed to use\n",
      "                  within this range.\n",
      "  current CPU frequency is 1.80 GHz.\n",
      "analyzing CPU 2:\n",
      "  driver: intel_pstate\n",
      "  CPUs which run at the same hardware frequency: 2\n",
      "  CPUs which need to have their frequency coordinated by software: 2\n",
      "  maximum transition latency: 4294.55 ms.\n",
      "  hardware limits: 800 MHz - 3.60 GHz\n",
      "  available cpufreq governors: performance, powersave\n",
      "  current policy: frequency should be within 1.80 GHz and 1.80 GHz.\n",
      "                  The governor \"powersave\" may decide which speed to use\n",
      "                  within this range.\n",
      "  current CPU frequency is 1.80 GHz.\n",
      "analyzing CPU 3:\n",
      "  driver: intel_pstate\n",
      "  CPUs which run at the same hardware frequency: 3\n",
      "  CPUs which need to have their frequency coordinated by software: 3\n",
      "  maximum transition latency: 4294.55 ms.\n",
      "  hardware limits: 800 MHz - 3.60 GHz\n",
      "  available cpufreq governors: performance, powersave\n",
      "  current policy: frequency should be within 1.80 GHz and 1.80 GHz.\n",
      "                  The governor \"powersave\" may decide which speed to use\n",
      "                  within this range.\n",
      "  current CPU frequency is 1.80 GHz.\n"
     ]
    }
   ],
   "source": [
    "cpufreq-info"
   ]
  },
  {
   "cell_type": "markdown",
   "metadata": {
    "id": "2rc2GxKG1a7B"
   },
   "source": [
    "**2. Review matrix-multiply code**\n",
    "\n",
    "Pull up the matrix-vector source code in an editor and do a walk-through.\n",
    "\n",
    "  * discuss command-line arguments \n",
    "  * discuss basics of an OpenMP directive\n",
    "  \n",
    "```C++\n",
    "double dot_prod(double *x, double *y, int n) {\n",
    "  double sum = 0.0;\n",
    "  int i;\n",
    "#pragma omp parallel for reduction(+:sum)\n",
    "  for (i = 0; i < n; i++)\n",
    "      sum += x[i] * y[i];\n",
    "  return sum;\n",
    "}\n",
    "\n",
    "void matrix_vector_mult(double **mat, double *vec, double *result,\n",
    "                        long long rows, long long cols) {\n",
    "\n",
    "  /* not parallelelized to ensure runtimes are more meaningful */\n",
    "  int i;\n",
    "  for (i = 0; i < rows; i++)\n",
    "    result[i] = dot_prod(mat[i], vec, cols);\n",
    "}\n",
    "```"
   ]
  },
  {
   "cell_type": "markdown",
   "metadata": {
    "id": "-IFhkagx1a7B"
   },
   "source": [
    "**3. Build the code on the command-line**"
   ]
  },
  {
   "cell_type": "markdown",
   "metadata": {},
   "source": [
    "If `gcc` is not installed yet, you can install it using the following command:\n",
    "```bash \n",
    "    sudo apt install -y -qq gcc\n",
    "```"
   ]
  },
  {
   "cell_type": "code",
   "execution_count": 37,
   "metadata": {
    "id": "OL0-UKqI1a7B",
    "scrolled": true
   },
   "outputs": [],
   "source": [
    "gcc -o matvec -fopenmp -O3 matvec.c"
   ]
  },
  {
   "cell_type": "markdown",
   "metadata": {
    "id": "O00CtR101a7B"
   },
   "source": [
    " `matvec` is parallelized with OpenMP. So the `-fopenmp` flag is required. Compiling at `-O3` is\n",
    "   likely to give more predictable performance numbers. \n",
    "   \n",
    "**4. Run and time the sequential and parallel version of the code**\n",
    "\n",
    "Run the code with a single thread (i.e., serial version). The matrix size and number of reps can be\n",
    "adjusted based on the system where the code is running and the amount of time to be devoted to this\n",
    "demo. With 10000 and 20 the sequential version should run for 3-4 seconds. "
   ]
  },
  {
   "cell_type": "code",
   "execution_count": 38,
   "metadata": {
    "id": "l1gMwsm_1a7C"
   },
   "outputs": [
    {
     "name": "stdout",
     "output_type": "stream",
     "text": [
      "Verification: result[0] = 2.61e+09\n",
      "\n",
      "\u001b[0;33mCompute time = 3.597 s\n",
      "\u001b[0m\n",
      "real\t0m5.668s\n",
      "user\t0m5.216s\n",
      "sys\t0m0.452s\n"
     ]
    }
   ],
   "source": [
    "time ./matvec 10000 20 1"
   ]
  },
  {
   "cell_type": "code",
   "execution_count": 39,
   "metadata": {
    "id": "19sdgCV61a7C"
   },
   "outputs": [
    {
     "name": "stdout",
     "output_type": "stream",
     "text": [
      "Verification: result[0] = 2.61e+09\n",
      "\n",
      "\u001b[0;33mCompute time = 2.146 s\n",
      "\u001b[0m\n",
      "real\t0m4.217s\n",
      "user\t0m5.935s\n",
      "sys\t0m0.428s\n"
     ]
    }
   ],
   "source": [
    "time ./matvec 10000 20 2"
   ]
  },
  {
   "cell_type": "markdown",
   "metadata": {
    "id": "T4iGDwxD1a7C"
   },
   "source": [
    "Discuss the performance improvements with parallelization. Time permitting, the code can be run with\n",
    "2, 4, ... N threads (where N = number of processing cores on the system) to show the scalability of\n",
    "the code and discuss Amdahl's Law. \n",
    "\n",
    "**4. Discuss mapping of threads to processors**\n",
    "\n",
    "   Introduce the `taskset` utility and discuss how it can be used to map threads to processing cores."
   ]
  },
  {
   "cell_type": "code",
   "execution_count": 40,
   "metadata": {
    "id": "uRx4eINR1a7C"
   },
   "outputs": [
    {
     "name": "stdout",
     "output_type": "stream",
     "text": [
      "Verification: result[0] = 2.61e+09\n",
      "\n",
      "\u001b[0;33mCompute time = 8.992 s\n",
      "\u001b[0m"
     ]
    }
   ],
   "source": [
    "## run program on core 0 with 4 threads \n",
    "taskset -c $Lstart ./matvec 10000 20 4"
   ]
  },
  {
   "cell_type": "code",
   "execution_count": 41,
   "metadata": {
    "id": "0A60fZn81a7C"
   },
   "outputs": [
    {
     "name": "stdout",
     "output_type": "stream",
     "text": [
      "Verification: result[0] = 2.61e+09\n",
      "\n",
      "\u001b[0;33mCompute time = 5.407 s\n",
      "\u001b[0m"
     ]
    }
   ],
   "source": [
    "## run program on 2 cores (Lstart and Lstart+1) with 4 threads \n",
    "taskset -c $Lstart,$(($Lstart+1)) ./matvec 10000 20 4"
   ]
  },
  {
   "cell_type": "markdown",
   "metadata": {
    "id": "fJRSbkkG1a7D"
   },
   "source": [
    "**5. Run code on _little_ cores**\n",
    "  \n",
    "  Run the code on the cores set up as little cores and measure execution time. Set the number of threads to the number of little cores. "
   ]
  },
  {
   "cell_type": "code",
   "execution_count": 43,
   "metadata": {
    "id": "GEsg0z4u1a7D"
   },
   "outputs": [
    {
     "name": "stdout",
     "output_type": "stream",
     "text": [
      "Verification: result[0] = 2.61e+09\n",
      "\n",
      "\u001b[0;33mCompute time = 1.364 s\n",
      "\u001b[0m"
     ]
    }
   ],
   "source": [
    "taskset -c $Lstart-$Lend ./matvec 10000 20 $(($Lend-$Lstart+1))"
   ]
  },
  {
   "cell_type": "markdown",
   "metadata": {
    "id": "ZZGXBDfn1a7D"
   },
   "source": [
    "Re-run the code and measure detailed performance metrics with `perf`"
   ]
  },
  {
   "cell_type": "code",
   "execution_count": 44,
   "metadata": {
    "id": "3GPsOc8g1a7E"
   },
   "outputs": [
    {
     "name": "stdout",
     "output_type": "stream",
     "text": [
      "Verification: result[0] = 2.61e+09\n",
      "\n",
      "\u001b[0;33mCompute time = 1.362 s\n",
      "\u001b[0m\n",
      " Performance counter stats for 'taskset -c 0-3 ./matvec 10000 20 4':\n",
      "\n",
      "          7,521.76 msec task-clock                #    2.187 CPUs utilized          \n",
      "                94      context-switches          #    0.012 K/sec                  \n",
      "                 0      cpu-migrations            #    0.000 K/sec                  \n",
      "           195,547      page-faults               #    0.026 M/sec                  \n",
      "    13,507,272,020      cycles                    #    1.796 GHz                    \n",
      "    20,289,133,747      instructions              #    1.50  insn per cycle         \n",
      "     4,226,512,735      branches                  #  561.905 M/sec                  \n",
      "         6,520,510      branch-misses             #    0.15% of all branches        \n",
      "\n",
      "       3.439552761 seconds time elapsed\n",
      "\n",
      "       7.125656000 seconds user\n",
      "       0.396537000 seconds sys\n",
      "\n",
      "\n"
     ]
    }
   ],
   "source": [
    "perf stat taskset -c $Lstart-$Lend ./matvec 10000 20 $(($Lend-$Lstart+1))"
   ]
  },
  {
   "cell_type": "markdown",
   "metadata": {
    "id": "janMQ7zM1a7E"
   },
   "source": [
    "Re-run the code and measure power and energy"
   ]
  },
  {
   "cell_type": "code",
   "execution_count": 45,
   "metadata": {
    "id": "GDmX3Ows1a7E"
   },
   "outputs": [
    {
     "name": "stdout",
     "output_type": "stream",
     "text": [
      "--------------------------------------------------------------------------------\n",
      "CPU name:\tIntel(R) Core(TM) i5-4570S CPU @ 2.90GHz\n",
      "CPU type:\tIntel Core Haswell processor\n",
      "CPU clock:\t2.89 GHz\n",
      "--------------------------------------------------------------------------------\n",
      "Verification: result[0] = 2.61e+09\n",
      "\n",
      "\u001b[0;33mCompute time = 1.373 s\n",
      "\u001b[0m--------------------------------------------------------------------------------\n",
      "Group 1: ENERGY\n",
      "+-----------------------+---------+------------+------------+------------+------------+\n",
      "|         Event         | Counter |   Core 0   |   Core 1   |   Core 2   |   Core 3   |\n",
      "+-----------------------+---------+------------+------------+------------+------------+\n",
      "|   INSTR_RETIRED_ANY   |  FIXC0  | 3316041051 | 3323876040 | 3326638040 | 9456693146 |\n",
      "| CPU_CLK_UNHALTED_CORE |  FIXC1  | 2458250477 | 2464458508 | 2467537662 | 4911848598 |\n",
      "|  CPU_CLK_UNHALTED_REF |  FIXC2  | 3960515152 | 3970516643 | 3975476310 | 7913418674 |\n",
      "|       TEMP_CORE       |   TMP0  |         35 |         36 |         37 |         37 |\n",
      "|     PWR_PKG_ENERGY    |   PWR0  |    39.7330 |          0 |          0 |          0 |\n",
      "|     PWR_PP0_ENERGY    |   PWR1  |    16.2617 |          0 |          0 |          0 |\n",
      "|     PWR_PP1_ENERGY    |   PWR2  |          0 |          0 |          0 |          0 |\n",
      "|    PWR_DRAM_ENERGY    |   PWR3  |     5.9650 |          0 |          0 |          0 |\n",
      "+-----------------------+---------+------------+------------+------------+------------+\n",
      "\n",
      "+----------------------------+---------+-------------+------------+------------+--------------+\n",
      "|            Event           | Counter |     Sum     |     Min    |     Max    |      Avg     |\n",
      "+----------------------------+---------+-------------+------------+------------+--------------+\n",
      "|   INSTR_RETIRED_ANY STAT   |  FIXC0  | 19423248277 | 3316041051 | 9456693146 | 4.855812e+09 |\n",
      "| CPU_CLK_UNHALTED_CORE STAT |  FIXC1  | 12302095245 | 2458250477 | 4911848598 | 3.075524e+09 |\n",
      "|  CPU_CLK_UNHALTED_REF STAT |  FIXC2  | 19819926779 | 3960515152 | 7913418674 | 4.954982e+09 |\n",
      "|       TEMP_CORE STAT       |   TMP0  |         145 |         35 |         37 |      36.2500 |\n",
      "|     PWR_PKG_ENERGY STAT    |   PWR0  |     39.7330 |          0 |    39.7330 |       9.9332 |\n",
      "|     PWR_PP0_ENERGY STAT    |   PWR1  |     16.2617 |          0 |    16.2617 |       4.0654 |\n",
      "|     PWR_PP1_ENERGY STAT    |   PWR2  |           0 |          0 |          0 |            0 |\n",
      "|    PWR_DRAM_ENERGY STAT    |   PWR3  |      5.9650 |          0 |     5.9650 |       1.4912 |\n",
      "+----------------------------+---------+-------------+------------+------------+--------------+\n",
      "\n",
      "+----------------------+-----------+-----------+-----------+-----------+\n",
      "|        Metric        |   Core 0  |   Core 1  |   Core 2  |   Core 3  |\n",
      "+----------------------+-----------+-----------+-----------+-----------+\n",
      "|  Runtime (RDTSC) [s] |    3.4459 |    3.4459 |    3.4459 |    3.4459 |\n",
      "| Runtime unhalted [s] |    0.8496 |    0.8518 |    0.8528 |    1.6977 |\n",
      "|      Clock [MHz]     | 1795.8398 | 1795.8400 | 1795.8405 | 1795.8662 |\n",
      "|          CPI         |    0.7413 |    0.7414 |    0.7418 |    0.5194 |\n",
      "|    Temperature [C]   |        35 |        36 |        37 |        37 |\n",
      "|      Energy [J]      |   39.7330 |         0 |         0 |         0 |\n",
      "|       Power [W]      |   11.5307 |         0 |         0 |         0 |\n",
      "|    Energy PP0 [J]    |   16.2617 |         0 |         0 |         0 |\n",
      "|     Power PP0 [W]    |    4.7192 |         0 |         0 |         0 |\n",
      "|    Energy PP1 [J]    |         0 |         0 |         0 |         0 |\n",
      "|     Power PP1 [W]    |         0 |         0 |         0 |         0 |\n",
      "|    Energy DRAM [J]   |    5.9650 |         0 |         0 |         0 |\n",
      "|    Power DRAM [W]    |    1.7311 |         0 |         0 |         0 |\n",
      "+----------------------+-----------+-----------+-----------+-----------+\n",
      "\n",
      "+---------------------------+-----------+-----------+-----------+-----------+\n",
      "|           Metric          |    Sum    |    Min    |    Max    |    Avg    |\n",
      "+---------------------------+-----------+-----------+-----------+-----------+\n",
      "|  Runtime (RDTSC) [s] STAT |   13.7836 |    3.4459 |    3.4459 |    3.4459 |\n",
      "| Runtime unhalted [s] STAT |    4.2519 |    0.8496 |    1.6977 |    1.0630 |\n",
      "|      Clock [MHz] STAT     | 7183.3865 | 1795.8398 | 1795.8662 | 1795.8466 |\n",
      "|          CPI STAT         |    2.7439 |    0.5194 |    0.7418 |    0.6860 |\n",
      "|    Temperature [C] STAT   |       145 |        35 |        37 |   36.2500 |\n",
      "|      Energy [J] STAT      |   39.7330 |         0 |   39.7330 |    9.9332 |\n",
      "|       Power [W] STAT      |   11.5307 |         0 |   11.5307 |    2.8827 |\n",
      "|    Energy PP0 [J] STAT    |   16.2617 |         0 |   16.2617 |    4.0654 |\n",
      "|     Power PP0 [W] STAT    |    4.7192 |         0 |    4.7192 |    1.1798 |\n",
      "|    Energy PP1 [J] STAT    |         0 |         0 |         0 |         0 |\n",
      "|     Power PP1 [W] STAT    |         0 |         0 |         0 |         0 |\n",
      "|    Energy DRAM [J] STAT   |    5.9650 |         0 |    5.9650 |    1.4912 |\n",
      "|    Power DRAM [W] STAT    |    1.7311 |         0 |    1.7311 |    0.4328 |\n",
      "+---------------------------+-----------+-----------+-----------+-----------+\n",
      "\n"
     ]
    }
   ],
   "source": [
    "likwid-perfctr -c $Lstart-$Lend -g ENERGY taskset -c $Lstart-$Lend ./matvec 10000 20 $(($Lend-$Lstart+1))"
   ]
  },
  {
   "cell_type": "markdown",
   "metadata": {
    "id": "tumfxpTj1a7E"
   },
   "source": [
    "**6. Run code on _big_ cores**\n",
    "\n",
    "   Run the code on the cores set up as little cores and measure execution time."
   ]
  },
  {
   "cell_type": "code",
   "execution_count": 47,
   "metadata": {},
   "outputs": [],
   "source": [
    "# the CPU number for BIG CPUs\n",
    "export Bstart=0\n",
    "export Bend=3"
   ]
  },
  {
   "cell_type": "code",
   "execution_count": 48,
   "metadata": {},
   "outputs": [
    {
     "name": "stdout",
     "output_type": "stream",
     "text": [
      "3.60\n"
     ]
    }
   ],
   "source": [
    "# find the maximum frequency of the CPUs\n",
    "export MaxFreq=`cpufreq-info | grep limits | head -1 | awk '{print $6}'`\n",
    "echo $MaxFreq"
   ]
  },
  {
   "cell_type": "code",
   "execution_count": 49,
   "metadata": {},
   "outputs": [
    {
     "name": "stdout",
     "output_type": "stream",
     "text": [
      "Setting cpu: 0\n",
      "Setting cpu: 1\n",
      "Setting cpu: 2\n",
      "Setting cpu: 3\n",
      "Setting cpu: 0\n",
      "Setting cpu: 1\n",
      "Setting cpu: 2\n",
      "Setting cpu: 3\n"
     ]
    }
   ],
   "source": [
    "# set the clock speed for the BIG CPUs\n",
    "sudo ./mapping_scripts/set_clk_speed.sh $Bstart-$Bend $MaxFreq"
   ]
  },
  {
   "cell_type": "code",
   "execution_count": 50,
   "metadata": {},
   "outputs": [
    {
     "name": "stdout",
     "output_type": "stream",
     "text": [
      "CPU0:\t360 GHz - 360 GHz\n",
      "CPU1:\t360 GHz - 360 GHz\n",
      "CPU2:\t360 GHz - 360 GHz\n",
      "CPU3:\t360 GHz - 360 GHz\n"
     ]
    }
   ],
   "source": [
    "./mapping_scripts/check_clk_speed.sh"
   ]
  },
  {
   "cell_type": "code",
   "execution_count": 51,
   "metadata": {
    "id": "75vNplXb1a7E"
   },
   "outputs": [
    {
     "name": "stdout",
     "output_type": "stream",
     "text": [
      "Verification: result[0] = 2.61e+09\n",
      "\n",
      "\u001b[0;33mCompute time = 0.918 s\n",
      "\u001b[0m\n",
      "real\t0m1.962s\n",
      "user\t0m4.516s\n",
      "sys\t0m0.200s\n"
     ]
    }
   ],
   "source": [
    "time taskset -c $Bstart-$Bend ./matvec 10000 20 $(($Bend-$Bstart+1))"
   ]
  },
  {
   "cell_type": "markdown",
   "metadata": {
    "id": "QmR8gDLO1a7E"
   },
   "source": [
    "Re-run the code and measure power and energy."
   ]
  },
  {
   "cell_type": "code",
   "execution_count": 52,
   "metadata": {
    "id": "Amq7kibm1a7F",
    "scrolled": true
   },
   "outputs": [
    {
     "name": "stdout",
     "output_type": "stream",
     "text": [
      "--------------------------------------------------------------------------------\n",
      "CPU name:\tIntel(R) Core(TM) i5-4570S CPU @ 2.90GHz\n",
      "CPU type:\tIntel Core Haswell processor\n",
      "CPU clock:\t2.89 GHz\n",
      "--------------------------------------------------------------------------------\n",
      "Verification: result[0] = 2.61e+09\n",
      "\n",
      "\u001b[0;33mCompute time = 0.927 s\n",
      "\u001b[0m--------------------------------------------------------------------------------\n",
      "Group 1: ENERGY\n",
      "+-----------------------+---------+------------+------------+------------+------------+\n",
      "|         Event         | Counter |   Core 0   |   Core 1   |   Core 2   |   Core 3   |\n",
      "+-----------------------+---------+------------+------------+------------+------------+\n",
      "|   INSTR_RETIRED_ANY   |  FIXC0  | 3273531680 | 3280728594 | 9493861056 | 3298285643 |\n",
      "| CPU_CLK_UNHALTED_CORE |  FIXC1  | 2899283896 | 2912803690 | 5547442256 | 2919950987 |\n",
      "|  CPU_CLK_UNHALTED_REF |  FIXC2  | 2627461654 | 2638793665 | 4726380357 | 2645915166 |\n",
      "|       TEMP_CORE       |   TMP0  |         38 |         40 |         46 |         39 |\n",
      "|     PWR_PKG_ENERGY    |   PWR0  |    53.0207 |          0 |          0 |          0 |\n",
      "|     PWR_PP0_ENERGY    |   PWR1  |    35.6097 |          0 |          0 |          0 |\n",
      "|     PWR_PP1_ENERGY    |   PWR2  |          0 |          0 |          0 |          0 |\n",
      "|    PWR_DRAM_ENERGY    |   PWR3  |     4.3231 |          0 |          0 |          0 |\n",
      "+-----------------------+---------+------------+------------+------------+------------+\n",
      "\n",
      "+----------------------------+---------+-------------+------------+------------+--------------+\n",
      "|            Event           | Counter |     Sum     |     Min    |     Max    |      Avg     |\n",
      "+----------------------------+---------+-------------+------------+------------+--------------+\n",
      "|   INSTR_RETIRED_ANY STAT   |  FIXC0  | 19346406973 | 3273531680 | 9493861056 | 4.836602e+09 |\n",
      "| CPU_CLK_UNHALTED_CORE STAT |  FIXC1  | 14279480829 | 2899283896 | 5547442256 | 3.569870e+09 |\n",
      "|  CPU_CLK_UNHALTED_REF STAT |  FIXC2  | 12638550842 | 2627461654 | 4726380357 | 3.159638e+09 |\n",
      "|       TEMP_CORE STAT       |   TMP0  |         163 |         38 |         46 |      40.7500 |\n",
      "|     PWR_PKG_ENERGY STAT    |   PWR0  |     53.0207 |          0 |    53.0207 |      13.2552 |\n",
      "|     PWR_PP0_ENERGY STAT    |   PWR1  |     35.6097 |          0 |    35.6097 |       8.9024 |\n",
      "|     PWR_PP1_ENERGY STAT    |   PWR2  |           0 |          0 |          0 |            0 |\n",
      "|    PWR_DRAM_ENERGY STAT    |   PWR3  |      4.3231 |          0 |     4.3231 |       1.0808 |\n",
      "+----------------------------+---------+-------------+------------+------------+--------------+\n",
      "\n",
      "+----------------------+-----------+-----------+-----------+-----------+\n",
      "|        Metric        |   Core 0  |   Core 1  |   Core 2  |   Core 3  |\n",
      "+----------------------+-----------+-----------+-----------+-----------+\n",
      "|  Runtime (RDTSC) [s] |    1.9727 |    1.9727 |    1.9727 |    1.9727 |\n",
      "| Runtime unhalted [s] |    1.0021 |    1.0067 |    1.9173 |    1.0092 |\n",
      "|      Clock [MHz]     | 3192.6219 | 3193.7353 | 3395.9184 | 3192.9548 |\n",
      "|          CPI         |    0.8857 |    0.8879 |    0.5843 |    0.8853 |\n",
      "|    Temperature [C]   |        38 |        40 |        46 |        39 |\n",
      "|      Energy [J]      |   53.0207 |         0 |         0 |         0 |\n",
      "|       Power [W]      |   26.8775 |         0 |         0 |         0 |\n",
      "|    Energy PP0 [J]    |   35.6097 |         0 |         0 |         0 |\n",
      "|     Power PP0 [W]    |   18.0514 |         0 |         0 |         0 |\n",
      "|    Energy PP1 [J]    |         0 |         0 |         0 |         0 |\n",
      "|     Power PP1 [W]    |         0 |         0 |         0 |         0 |\n",
      "|    Energy DRAM [J]   |    4.3231 |         0 |         0 |         0 |\n",
      "|    Power DRAM [W]    |    2.1915 |         0 |         0 |         0 |\n",
      "+----------------------+-----------+-----------+-----------+-----------+\n",
      "\n",
      "+---------------------------+------------+-----------+-----------+-----------+\n",
      "|           Metric          |     Sum    |    Min    |    Max    |    Avg    |\n",
      "+---------------------------+------------+-----------+-----------+-----------+\n",
      "|  Runtime (RDTSC) [s] STAT |     7.8908 |    1.9727 |    1.9727 |    1.9727 |\n",
      "| Runtime unhalted [s] STAT |     4.9353 |    1.0021 |    1.9173 |    1.2338 |\n",
      "|      Clock [MHz] STAT     | 12975.2304 | 3192.6219 | 3395.9184 | 3243.8076 |\n",
      "|          CPI STAT         |     3.2432 |    0.5843 |    0.8879 |    0.8108 |\n",
      "|    Temperature [C] STAT   |        163 |        38 |        46 |   40.7500 |\n",
      "|      Energy [J] STAT      |    53.0207 |         0 |   53.0207 |   13.2552 |\n",
      "|       Power [W] STAT      |    26.8775 |         0 |   26.8775 |    6.7194 |\n",
      "|    Energy PP0 [J] STAT    |    35.6097 |         0 |   35.6097 |    8.9024 |\n",
      "|     Power PP0 [W] STAT    |    18.0514 |         0 |   18.0514 |    4.5129 |\n",
      "|    Energy PP1 [J] STAT    |          0 |         0 |         0 |         0 |\n",
      "|     Power PP1 [W] STAT    |          0 |         0 |         0 |         0 |\n",
      "|    Energy DRAM [J] STAT   |     4.3231 |         0 |    4.3231 |    1.0808 |\n",
      "|    Power DRAM [W] STAT    |     2.1915 |         0 |    2.1915 |    0.5479 |\n",
      "+---------------------------+------------+-----------+-----------+-----------+\n",
      "\n"
     ]
    }
   ],
   "source": [
    "likwid-perfctr -c $Bstart-$Bend -g ENERGY taskset -c $Bstart-$Bend ./matvec 10000 20 $(($Bend-$Bstart+1))"
   ]
  },
  {
   "cell_type": "code",
   "execution_count": 56,
   "metadata": {},
   "outputs": [
    {
     "name": "stdout",
     "output_type": "stream",
     "text": [
      "Setting cpu: 0\n",
      "Setting cpu: 1\n",
      "Setting cpu: 2\n",
      "Setting cpu: 3\n",
      "Setting cpu: 0\n",
      "Setting cpu: 1\n",
      "Setting cpu: 2\n",
      "Setting cpu: 3\n"
     ]
    }
   ],
   "source": [
    "# reset the cpu clock speed for both little and big cores\n",
    "\n",
    "./mapping_scripts/reset_clk_speed.sh $Lstart-$Lend\n",
    "./mapping_scripts/reset_clk_speed.sh $Bstart-$Bend"
   ]
  },
  {
   "cell_type": "markdown",
   "metadata": {
    "id": "PXGAZuND1a7F"
   },
   "source": [
    "**7. Discuss the implications of the results** \n",
    "\n",
    "   * little cores will consume less power than big cores\n",
    "   * little cores will have lower performance than big cores\n",
    "   * threads must be mapped to cores based on the characteristic of the application and the target\n",
    "     objective"
   ]
  }
 ],
 "metadata": {
  "colab": {
   "collapsed_sections": [],
   "name": "demo.ipynb",
   "provenance": []
  },
  "kernelspec": {
   "display_name": "Bash",
   "language": "bash",
   "name": "bash"
  },
  "language_info": {
   "codemirror_mode": "shell",
   "file_extension": ".sh",
   "mimetype": "text/x-sh",
   "name": "bash"
  }
 },
 "nbformat": 4,
 "nbformat_minor": 1
}
